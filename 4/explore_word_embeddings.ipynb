{
 "cells": [
  {
   "cell_type": "markdown",
   "id": "c69aa2e8-ff92-49b2-b63b-015334b598d4",
   "metadata": {},
   "source": [
    "<h1 style=\"text-align: center\">\n",
    "In the name of God\n",
    "</h1>\n",
    "<h1 style=\"text-align: center\">\n",
    "Deep Learning HW4\n",
    "</h1>"
   ]
  },
  {
   "cell_type": "markdown",
   "id": "8646ffac-68f8-4d60-8510-55cc889e030b",
   "metadata": {},
   "source": [
    "### Name: ---fill here---\n",
    "### Student ID: ---fill here---"
   ]
  },
  {
   "cell_type": "markdown",
   "id": "c61b007d-b6f2-4e44-ad9d-b17a2eb422fe",
   "metadata": {},
   "source": [
    "## Imports "
   ]
  },
  {
   "cell_type": "code",
   "execution_count": null,
   "id": "49a7e39c-95dc-4811-b325-36243a4e6694",
   "metadata": {},
   "outputs": [],
   "source": [
    "import numpy as np\n",
    "import json\n",
    "import re\n",
    "import math\n",
    "\n",
    "from sklearn.metrics import classification_report\n",
    "\n",
    "import matplotlib.pyplot as plt\n",
    "\n",
    "import torch\n",
    "import torch.nn as nn\n",
    "import torch.optim as optim\n",
    "import torch.nn.functional as F\n",
    "from torch.utils.data import Dataset, DataLoader\n",
    "from torch.utils.data.dataloader import default_collate"
   ]
  },
  {
   "cell_type": "markdown",
   "id": "9adecc40-4a13-42b3-b2df-4475909a8532",
   "metadata": {},
   "source": [
    "## Some useful constants"
   ]
  },
  {
   "cell_type": "code",
   "execution_count": null,
   "id": "20d92b82-4267-4cd7-8a5f-67d7e0e0faad",
   "metadata": {},
   "outputs": [],
   "source": [
    "EMB_SIZE = 300\n",
    "PAD_TOKEN = '<PAD>'\n",
    "UNK_TOKEN = '<UNK>'\n",
    "TRAIN_BATCH_SIZE = 32\n",
    "TEST_EVAL_BATCH_SIZE = 32\n",
    "# You can define your own constant in here"
   ]
  },
  {
   "cell_type": "markdown",
   "id": "c2697fea-9c12-4ab7-bb4f-68881db3b471",
   "metadata": {},
   "source": [
    "## Load the data"
   ]
  },
  {
   "cell_type": "markdown",
   "id": "160b7647-70ce-4c3f-a1e9-9311eb68c637",
   "metadata": {},
   "source": [
    "This data is based on\n",
    "<a href=\"http://www.cs.cornell.edu/people/pabo/movie-review-data/\">this link</a>\n",
    "and contains movie reviews sentiment-analysis."
   ]
  },
  {
   "cell_type": "code",
   "execution_count": null,
   "id": "7131e553-3b17-4cef-b940-7b79f0b45a37",
   "metadata": {},
   "outputs": [],
   "source": [
    "with open('./dataset.json') as f:\n",
    "    all_dataset = json.load(f)\n",
    "    \n",
    "for section in all_dataset.keys():\n",
    "    l = len(all_dataset[section])\n",
    "    print(f\"{section} lenght is: {l}\")"
   ]
  },
  {
   "cell_type": "markdown",
   "id": "226ae1ee-8c58-4701-99ef-344a0a4c6d97",
   "metadata": {},
   "source": [
    "## Download and extract the embeddings"
   ]
  },
  {
   "cell_type": "code",
   "execution_count": null,
   "id": "de951110-ed5c-4983-84f9-7986a864b870",
   "metadata": {},
   "outputs": [],
   "source": [
    "!wget https://nlp.stanford.edu/data/glove.6B.zip"
   ]
  },
  {
   "cell_type": "code",
   "execution_count": null,
   "id": "e2d20001-b797-4fbd-ae78-b0e53c5456f0",
   "metadata": {},
   "outputs": [],
   "source": [
    "!unzip ./glove.6B.zip -d \"./glove/\""
   ]
  },
  {
   "cell_type": "markdown",
   "id": "695db153-b2e6-4650-a0f1-f46e62995061",
   "metadata": {},
   "source": [
    "## Create embedding matrix and useful functions"
   ]
  },
  {
   "cell_type": "code",
   "execution_count": null,
   "id": "4d14e34c-032d-4ba0-b55c-e3abb84194a7",
   "metadata": {},
   "outputs": [],
   "source": [
    "word_list = []\n",
    "emb_list = []\n",
    "with open(f'./glove/glove.6B.{EMB_SIZE}d.txt','r') as f:\n",
    "    for line in f.read().strip().split('\\n'):\n",
    "        values = line.split()\n",
    "        word = values[0]\n",
    "        emb = values[1:]\n",
    "        word_list.append(word)\n",
    "        emb_list.append(emb)\n",
    "        \n",
    "emb_matrix = np.array(emb_list, 'float32')"
   ]
  },
  {
   "cell_type": "code",
   "execution_count": null,
   "id": "acf153cb-e1f6-4e51-8e4d-c3380f145a39",
   "metadata": {},
   "outputs": [],
   "source": [
    "# We initialize <UNK> token as an average of all embedings\n",
    "unk_emb = np.mean(emb_matrix, axis=0, keepdims=True)\n",
    "word_list.append(UNK_TOKEN)\n",
    "emb_matrix = np.vstack((emb_matrix, unk_emb))\n",
    "\n",
    "# We initialize <PAD> token as zeroes\n",
    "pad_emb = np.zeros((1, EMB_SIZE))\n",
    "word_list.append(PAD_TOKEN)\n",
    "emb_matrix = np.vstack((emb_matrix, pad_emb))"
   ]
  },
  {
   "cell_type": "code",
   "execution_count": null,
   "id": "28be1a5a-1f6a-4185-9479-ff687013baf8",
   "metadata": {},
   "outputs": [],
   "source": [
    "reverse_map = {word: id for (id, word) in enumerate(word_list)}\n",
    "\n",
    "def word_to_ids(word: str) -> list:\n",
    "    word = word.strip()\n",
    "    if word == \"\":\n",
    "        return []\n",
    "    if word in reverse_map:\n",
    "        return [reverse_map[word]]\n",
    "    elif word[-3:] in [\"n't\", \"'re\"]:\n",
    "        return word_to_ids(word[:-3]) + word_to_ids(word[-3:])\n",
    "    elif word[-2:] in [\"'s\", \"'d\", \"'m\"]:\n",
    "        return word_to_ids(word[:-2]) + word_to_ids(word[-2:])\n",
    "    else:\n",
    "        word = word.replace(\"'\", \"\")\n",
    "        if word in reverse_map:\n",
    "            return [reverse_map[word]]\n",
    "    return [reverse_map[UNK_TOKEN]]\n",
    "    \n",
    "def id_to_word(id: int) -> str:\n",
    "    return word_list[id]"
   ]
  },
  {
   "cell_type": "markdown",
   "id": "11c3f21c-b625-4461-b307-9dcfb14bd163",
   "metadata": {},
   "source": [
    "## Tokenizer and sentence useful tools"
   ]
  },
  {
   "cell_type": "code",
   "execution_count": null,
   "id": "27aeef5d-8ef8-4bc9-8514-9447dab88e3c",
   "metadata": {},
   "outputs": [],
   "source": [
    "def tokenizer(sentence: str) -> list:\n",
    "    sentence = sentence.strip()\n",
    "    return re.split(\"[ -]+\", sentence)\n",
    "\n",
    "def sentence_to_ids(sentence: str) -> list:\n",
    "    return sum(map(word_to_ids, tokenizer(sentence)), [])\n",
    "\n",
    "def ids_to_sentence(ids: list) -> list:\n",
    "    return ' '.join(map(id_to_word, ids))"
   ]
  },
  {
   "cell_type": "markdown",
   "id": "8198c170-8349-4f9b-a79a-519a63ccaa61",
   "metadata": {},
   "source": [
    "# Part 1: Predict relationships among words (30% grade)"
   ]
  },
  {
   "cell_type": "markdown",
   "id": "6a289a5a-a2ba-46ff-a97b-f24948fe2bc6",
   "metadata": {},
   "source": [
    "Now you will write a function that will use the word embeddings to predict relationships among words.\n",
    "* The function will take as input three words.\n",
    "* The first two are related to each other.\n",
    "* It will predict a 4th word which is related to the third word in a similar manner as the two first words are related to each other.\n",
    "* As an example, \"Athens is to Greece as Bangkok is to ______\"?\n",
    "* You will write a program that is capable of finding the fourth word.\n",
    "* We will give you a hint to show you how to compute this.\n",
    "\n",
    "A similar analogy would be the following:\n",
    "\n",
    "<img src = 'https://msadraeij.ir:2083/public_assets/vectors.jpg' width=\"width\" height=\"height\" style=\"width:467px;height:200px;\"/>\n",
    "\n",
    "You will implement a function that can tell you the capital of a country.\n",
    "You should use the same methodology shown in the figure above. To do this,\n",
    "compute you'll first compute cosine similarity metric or the Euclidean distance."
   ]
  },
  {
   "cell_type": "markdown",
   "id": "b6c25731-2a8e-4b58-b577-07755848df27",
   "metadata": {},
   "source": [
    "### Cosine Similarity\n",
    "\n",
    "The cosine similarity function is:\n",
    "\n",
    "$$\\cos (\\theta)=\\frac{\\mathbf{A} \\cdot \\mathbf{B}}{\\|\\mathbf{A}\\|\\|\\mathbf{B}\\|}=\\frac{\\sum_{i=1}^{n} A_{i} B_{i}}{\\sqrt{\\sum_{i=1}^{n} A_{i}^{2}} \\sqrt{\\sum_{i=1}^{n} B_{i}^{2}}}\\tag{1}$$\n",
    "\n",
    "$A$ and $B$ represent the word vectors and $A_i$ or $B_i$ represent index i of that vector.\n",
    "& Note that if A and B are identical, you will get $cos(\\theta) = 1$.\n",
    "* Otherwise, if they are the total opposite, meaning, $A= -B$, then you would get $cos(\\theta) = -1$.\n",
    "* If you get $cos(\\theta) =0$, that means that they are orthogonal (or perpendicular).\n",
    "* Numbers between 0 and 1 indicate a similarity score.\n",
    "* Numbers between -1-0 indicate a dissimilarity score.\n",
    "\n",
    "**Instructions**: Implement a function that takes in two word vectors and computes the cosine distance.\n",
    "\n",
    "**Hint**: You can use numpy functions."
   ]
  },
  {
   "cell_type": "code",
   "execution_count": null,
   "id": "ccf39e2e-4f49-491c-9f46-d10309106b93",
   "metadata": {},
   "outputs": [],
   "source": [
    "def cosine_similarity(A, B):\n",
    "    A = A.flatten()\n",
    "    B = B.flatten()\n",
    "    #____________YOUR CODE GOES HERE____________\n",
    "    #REPLACE INSTANCES OF 'None' with your code\n",
    "    dot = None\n",
    "    norma = None\n",
    "    normb = None\n",
    "    cos = None\n",
    "    #______________END BLOCK CODE_______________\n",
    "    return cos"
   ]
  },
  {
   "cell_type": "markdown",
   "id": "33ab06d2-9a2c-4ade-b2e3-0439f7f55c9c",
   "metadata": {},
   "source": [
    "### Euclidean distance\n",
    "\n",
    "You will now implement a function that computes the similarity between two vectors using the Euclidean distance.\n",
    "Euclidean distance is defined as:\n",
    "\n",
    "$$ \\begin{aligned} d(\\mathbf{A}, \\mathbf{B})=d(\\mathbf{B}, \\mathbf{A}) &=\\sqrt{\\left(A_{1}-B_{1}\\right)^{2}+\\left(A_{2}-B_{2}\\right)^{2}+\\cdots+\\left(A_{n}-B_{n}\\right)^{2}} \\\\ &=\\sqrt{\\sum_{i=1}^{n}\\left(A_{i}-B_{i}\\right)^{2}} \\end{aligned}$$\n",
    "\n",
    "* $n$ is the number of elements in the vector\n",
    "* $A$ and $B$ are the corresponding word vectors. \n",
    "* The more similar the words, the more likely the Euclidean distance will be close to 0. \n",
    "\n",
    "**Instructions**: Write a function that computes the Euclidean distance between two vector"
   ]
  },
  {
   "cell_type": "code",
   "execution_count": null,
   "id": "a251e69e-c488-4c6c-9126-c8742841673c",
   "metadata": {},
   "outputs": [],
   "source": [
    "def euclidean(A, B):\n",
    "    #____________YOUR CODE GOES HERE____________\n",
    "    d = None\n",
    "    #______________END BLOCK CODE_______________\n",
    "    return d"
   ]
  },
  {
   "cell_type": "markdown",
   "id": "2f013dc7-8d8a-41e7-8b97-0ce58357974d",
   "metadata": {},
   "source": [
    "### Let's find out queen\n",
    "\n",
    "We are going to find queen using `Cosine Similarity`"
   ]
  },
  {
   "cell_type": "code",
   "execution_count": null,
   "id": "2bce3ff9-03a4-43c3-9f2b-1c4e0e41c5f1",
   "metadata": {},
   "outputs": [],
   "source": [
    "king_emb = emb_matrix[word_to_ids('king')]\n",
    "man_emb = emb_matrix[word_to_ids('man')]\n",
    "woman_emb = emb_matrix[word_to_ids('woman')]\n",
    "\n",
    "query = king_emb - man_emb + woman_emb\n",
    "word_scores = list(map(lambda x: (x[0], cosine_similarity(query, x[1])), zip(word_list[:-1], emb_matrix)))\n",
    "sorted_word_scores = sorted(word_scores, key=lambda x: x[1], reverse=True)\n",
    "top5 = sorted_word_scores[:5]\n",
    "print(top5)"
   ]
  },
  {
   "cell_type": "markdown",
   "id": "f82f0a18-f2e7-4d73-984f-da7f03e2be8d",
   "metadata": {},
   "source": [
    "**It's Great**\n",
    "\n",
    "Queen is in top5"
   ]
  },
  {
   "cell_type": "markdown",
   "id": "d51dd2ba-1316-4836-9a68-5c2af5b82c72",
   "metadata": {},
   "source": [
    "### Finding the country of each capital\n",
    "\n",
    "Now, you  will use the previous functions to compute similarities between vectors,\n",
    "and use these to find the capital cities of countries. You will write a function that\n",
    "takes in three words, and the embeddings dictionary. Your task is to find the\n",
    "capital cities. For example, given the following words: \n",
    "\n",
    "- 1: Athens 2: Greece 3: Baghdad,\n",
    "\n",
    "your task is to predict the country 4: Iraq.\n",
    "\n",
    "**Instructions**: \n",
    "\n",
    "1. To predict the capital you might want to look at the *King - Man + Woman = Queen* example above, and implement that scheme into a mathematical function, using the word embeddings and a similarity function.\n",
    "\n",
    "2. Iterate over the embeddings dictionary and compute the cosine similarity score between your vector and the current word embedding.\n",
    "\n",
    "3. You should add a check to make sure that the word you return is not any of the words that you fed into your function. Return the one with the highest score."
   ]
  },
  {
   "cell_type": "code",
   "execution_count": null,
   "id": "8fcbf002-6d40-43d4-945d-08f0bbeccff0",
   "metadata": {},
   "outputs": [],
   "source": [
    "def get_top5_country(city1, country1, city2):\n",
    "    #____________YOUR CODE GOES HERE____________\n",
    "    #___________________________________________\n",
    "    #___________________________________________\n",
    "    #___________________________________________\n",
    "    #___________________________________________\n",
    "    #___________________________________________\n",
    "    #______________END BLOCK CODE_______________\n",
    "    return top5"
   ]
  },
  {
   "cell_type": "code",
   "execution_count": null,
   "id": "b4a91851-93db-4b1b-a2da-8f4e30cda967",
   "metadata": {},
   "outputs": [],
   "source": [
    "get_top5_country('athens', 'greece', 'tehran')"
   ]
  },
  {
   "cell_type": "markdown",
   "id": "55b277ae-bb79-4500-baff-144acc57e422",
   "metadata": {},
   "source": [
    "**It's Great**\n",
    "\n",
    "Iran is in top5"
   ]
  },
  {
   "cell_type": "markdown",
   "id": "d7845f1f-1670-4a13-a00b-ab4e5fc41597",
   "metadata": {},
   "source": [
    "# Part 2: Plotting the vectors using PCA(20% grade)"
   ]
  },
  {
   "cell_type": "markdown",
   "id": "25089b5c-b51e-4c72-ada9-a2fb9bc78e57",
   "metadata": {},
   "source": [
    "Now you will explore the distance between word vectors after reducing their dimension.\n",
    "The technique we will employ is known as\n",
    "[*principal component analysis* (PCA)](https://en.wikipedia.org/wiki/Principal_component_analysis).\n",
    "As we saw, we are working in a 300-dimensional space in this case.\n",
    "Although from a computational perspective we were able to perform a good job,\n",
    "it is impossible to visualize results in such high dimensional spaces.\n",
    "\n",
    "You can think of PCA as a method that projects our vectors in a space of reduced\n",
    "dimension, while keeping the maximum information about the original vectors in\n",
    "their reduced counterparts. In this case, by *maximum infomation* we mean that the\n",
    "Euclidean distance between the original vectors and their projected siblings is\n",
    "minimal. Hence vectors that were originally close in the embeddings dictionary,\n",
    "will produce lower dimensional vectors that are still close to each other.\n",
    "\n",
    "You will see that when you map out the words, similar words will be clustered\n",
    "next to each other. For example, the words 'sad', 'happy', 'joyful' all describe\n",
    "emotion and are supposed to be near each other when plotted.\n",
    "The words: 'oil', 'gas', and 'petroleum' all describe natural resources.\n",
    "Words like 'city', 'village', 'town' could be seen as synonyms and describe a\n",
    "similar thing.\n",
    "\n",
    "Before plotting the words, you need to first be able to reduce each word vector\n",
    "with PCA into 2 dimensions and then plot it. The steps to compute PCA are as follows:\n",
    "\n",
    "1. Mean normalize the data\n",
    "2. Compute the covariance matrix of your data ($\\Sigma$). \n",
    "3. Compute the eigenvectors and the eigenvalues of your covariance matrix\n",
    "4. Multiply the first K eigenvectors by your normalized data. The transformation should look something as follows:\n",
    "\n",
    "<img src = 'https://msadraeij.ir:2083/public_assets/word_embf.jpg' width=\"width\" height=\"height\" style=\"width:800px;height:200px;\"/>"
   ]
  },
  {
   "cell_type": "markdown",
   "id": "11ea4190-7b4f-44b7-a870-8da4b2afe78f",
   "metadata": {},
   "source": [
    "**Instructions**: \n",
    "\n",
    "You will write a program that takes in a data set where each row corresponds to a word vector. \n",
    "* The word vectors are of dimension 300. \n",
    "* Use PCA to change the 300 dimensions to `n_components` dimensions. \n",
    "* The new matrix should be of dimension `m, n_componentns`. \n",
    "\n",
    "* First de-mean the data\n",
    "* Get the eigenvalues using `linalg.eigh`.  Use `eigh` rather than `eig` since R is symmetric.  The performance gain when using `eigh` instead of `eig` is substantial.\n",
    "* Sort the eigenvectors and eigenvalues by decreasing order of the eigenvalues.\n",
    "* Get a subset of the eigenvectors (choose how many principle components you want to use using `n_components`).\n",
    "* Return the new transformation of the data by multiplying the eigenvectors with the original data."
   ]
  },
  {
   "cell_type": "code",
   "execution_count": null,
   "id": "56f9ee08-af39-4be7-8ee7-19fec2cae5d0",
   "metadata": {},
   "outputs": [],
   "source": [
    "def compute_pca(X, n_components=2):\n",
    "\n",
    "    #____________YOUR CODE GOES HERE____________\n",
    "    #___________________________________________\n",
    "    #___________________________________________\n",
    "    #___________________________________________\n",
    "    #___________________________________________\n",
    "    #___________________________________________\n",
    "    #______________END BLOCK CODE_______________\n",
    "\n",
    "    return X_reduced"
   ]
  },
  {
   "cell_type": "markdown",
   "id": "c8671dc5-a3ee-4d33-bf6f-16797010caf6",
   "metadata": {},
   "source": [
    "### Plot some words"
   ]
  },
  {
   "cell_type": "code",
   "execution_count": null,
   "id": "416eacd4-9748-4f26-9a10-ba92d2350251",
   "metadata": {},
   "outputs": [],
   "source": [
    "selected_words = ['oil', 'gas', 'happy', 'sad', 'city', 'town', 'village', 'country', 'continent', 'petroleum', 'joyful']\n",
    "\n",
    "selected_words_emb = np.vstack([emb_matrix[word_to_ids(word)] for word in selected_words])\n",
    "\n",
    "result = compute_pca(selected_words_emb, 2)\n",
    "plt.scatter(result[:, 0], result[:, 1])\n",
    "for i, word in enumerate(selected_words):\n",
    "    plt.annotate(word, xy=(result[i, 0] - 0.05, result[i, 1] + 0.1))\n",
    "plt.show()"
   ]
  },
  {
   "cell_type": "markdown",
   "id": "f9ea1201-fd2d-4439-8e70-050dc8bb03d2",
   "metadata": {},
   "source": [
    "# Part 3: Classification using a simple bag of words (10% grade)"
   ]
  },
  {
   "cell_type": "code",
   "execution_count": null,
   "id": "1fc87523-1e14-4747-abdc-9f827c60150e",
   "metadata": {},
   "outputs": [],
   "source": [
    "def sentence_to_emb(sentence: str):\n",
    "    return_value = np.zeros((EMB_SIZE,))\n",
    "    token_ids = sentence_to_ids(sentence)\n",
    "    #____________YOUR CODE GOES HERE____________\n",
    "    #___________________________________________\n",
    "    #___________________________________________\n",
    "    #___________________________________________\n",
    "    #___________________________________________\n",
    "    #___________________________________________\n",
    "    #______________END BLOCK CODE_______________\n",
    "    return return_value"
   ]
  },
  {
   "cell_type": "markdown",
   "id": "93d63627-0fbf-4012-be7e-07302a596702",
   "metadata": {},
   "source": [
    "### Define our simple model"
   ]
  },
  {
   "cell_type": "code",
   "execution_count": null,
   "id": "dbde2f88-0a2e-43bf-a8a2-e21bd3c22669",
   "metadata": {},
   "outputs": [],
   "source": [
    "model = nn.Sequential(\n",
    "    nn.Linear(EMB_SIZE, EMB_SIZE),\n",
    "    nn.ReLU(),\n",
    "    nn.Linear(EMB_SIZE, EMB_SIZE),\n",
    "    nn.ReLU(),\n",
    "    nn.Linear(EMB_SIZE, EMB_SIZE),\n",
    "    nn.ReLU(),\n",
    "    nn.Linear(EMB_SIZE, EMB_SIZE),\n",
    "    nn.ReLU(),\n",
    "    nn.Linear(EMB_SIZE, 2)\n",
    ")"
   ]
  },
  {
   "cell_type": "markdown",
   "id": "d23a82be-2560-4dd7-a574-0f5fdcd93105",
   "metadata": {},
   "source": [
    "### Define our dataset and dataloader"
   ]
  },
  {
   "cell_type": "code",
   "execution_count": null,
   "id": "799a7e9d-9216-48fe-b3ff-dda296796fc9",
   "metadata": {},
   "outputs": [],
   "source": [
    "class Method1Dataset(Dataset):\n",
    "    def __init__(self, datadict):\n",
    "        self.data = [(sentence_to_emb(sentence), semantic)for sentence, semantic in datadict]\n",
    "        \n",
    "    def __len__(self):\n",
    "        return len(self.data)\n",
    "    \n",
    "    def __getitem__(self, idx):\n",
    "        return self.data[idx]"
   ]
  },
  {
   "cell_type": "code",
   "execution_count": null,
   "id": "2c908988-8291-4b67-a7bb-499065bf590f",
   "metadata": {},
   "outputs": [],
   "source": [
    "train_dataset = Method1Dataset(all_dataset['train'])\n",
    "eval_dataset = Method1Dataset(all_dataset['eval'])\n",
    "test_dataset = Method1Dataset(all_dataset['test'])"
   ]
  },
  {
   "cell_type": "code",
   "execution_count": null,
   "id": "a215fcf5-ff3e-4fe6-9029-f365cd5e286e",
   "metadata": {},
   "outputs": [],
   "source": [
    "train_dataloader = DataLoader(train_dataset, batch_size=TRAIN_BATCH_SIZE, shuffle=True)\n",
    "eval_dataloader = DataLoader(eval_dataset, batch_size=TEST_EVAL_BATCH_SIZE, shuffle=True)\n",
    "test_dataloader = DataLoader(test_dataset, batch_size=TEST_EVAL_BATCH_SIZE, shuffle=True)"
   ]
  },
  {
   "cell_type": "markdown",
   "id": "7647d0d4-081e-4829-a606-dd9d37e1a3a5",
   "metadata": {},
   "source": [
    "### Define our training routine"
   ]
  },
  {
   "cell_type": "code",
   "execution_count": null,
   "id": "b189554c-b897-4fef-9bc5-c22aa2e82dd9",
   "metadata": {},
   "outputs": [],
   "source": [
    "criterion = nn.CrossEntropyLoss()\n",
    "optimizer = torch.optim.Adam(model.parameters(), lr=1e-4, weight_decay=1e-4)"
   ]
  },
  {
   "cell_type": "code",
   "execution_count": null,
   "id": "3f5a7eb0-a8ba-44e4-84db-ae979b4bbd9a",
   "metadata": {},
   "outputs": [],
   "source": [
    "def train(model, iterator, optimizer, criterion):\n",
    "    model.train()\n",
    "    epoch_loss = 0\n",
    "    \n",
    "    for i, batch in enumerate(iterator):\n",
    "        x, trg = batch\n",
    "        optimizer.zero_grad()\n",
    "        output = model(x.float())\n",
    "        \n",
    "        loss = criterion(output, trg)\n",
    "        loss.backward()\n",
    "        optimizer.step()\n",
    "        epoch_loss += loss.item()\n",
    "    \n",
    "    return epoch_loss / len(iterator)"
   ]
  },
  {
   "cell_type": "code",
   "execution_count": null,
   "id": "558bd8c4-ee8c-49fd-8ec0-07c422147fe4",
   "metadata": {},
   "outputs": [],
   "source": [
    "def evaluate(model, iterator, criterion):\n",
    "    model.eval()\n",
    "    epoch_loss = 0\n",
    "    \n",
    "    with torch.no_grad():\n",
    "        for i, batch in enumerate(iterator):\n",
    "            x, trg = batch\n",
    "            output = model(x.float())\n",
    "\n",
    "            loss = criterion(output, trg)\n",
    "            epoch_loss += loss.item()\n",
    "        \n",
    "    return epoch_loss / len(iterator)"
   ]
  },
  {
   "cell_type": "markdown",
   "id": "4f0a8e94-db8b-4370-9df0-f2cf5b205027",
   "metadata": {},
   "source": [
    "### Train the model"
   ]
  },
  {
   "cell_type": "code",
   "execution_count": null,
   "id": "aa84453b-e125-4fe6-bd3e-1cdf35e66206",
   "metadata": {},
   "outputs": [],
   "source": [
    "for epoch in range(10):\n",
    "    train_loss = train(model, train_dataloader, optimizer, criterion)\n",
    "    valid_loss = evaluate(model, eval_dataloader, criterion)\n",
    "    print(f'Epoch: {epoch+1:02}')\n",
    "    print(f'\\tTrain Loss: {train_loss:.3f}')\n",
    "    print(f'\\t Val. Loss: {valid_loss:.3f}')"
   ]
  },
  {
   "cell_type": "markdown",
   "id": "26fd26e2-ba81-4b48-9915-ebfe69aa7c20",
   "metadata": {},
   "source": [
    "### Check the results"
   ]
  },
  {
   "cell_type": "code",
   "execution_count": null,
   "id": "57eddc71-714b-42d6-8a67-2bc98c882046",
   "metadata": {},
   "outputs": [],
   "source": [
    "def get_all_targets_and_predicted(model, iterator):\n",
    "    all_trg = []\n",
    "    all_prd = []\n",
    "    with torch.no_grad():\n",
    "        for batch in iterator:\n",
    "            x, trg = batch\n",
    "            output = model(x.float())\n",
    "            prd = output.argmax(1).tolist()\n",
    "            \n",
    "            all_trg += trg\n",
    "            all_prd += prd\n",
    "    return all_trg, all_prd"
   ]
  },
  {
   "cell_type": "code",
   "execution_count": null,
   "id": "d1ed020c-f21d-4d6f-b84b-4f2db54cbf7f",
   "metadata": {},
   "outputs": [],
   "source": [
    "print('__________________TRAIN DATASET__________________')\n",
    "trg, prd = get_all_targets_and_predicted(model, train_dataloader)\n",
    "print(classification_report(trg, prd))\n",
    "print('__________________EVAL DATASET__________________')\n",
    "trg, prd = get_all_targets_and_predicted(model, eval_dataloader)\n",
    "print(classification_report(trg, prd))\n",
    "print('__________________TEST DATASET__________________')\n",
    "trg, prd = get_all_targets_and_predicted(model, test_dataloader)\n",
    "print(classification_report(trg, prd))"
   ]
  },
  {
   "cell_type": "markdown",
   "id": "134984dd-592a-4f74-84a7-bd11b16a203a",
   "metadata": {},
   "source": [
    "# Part 4: Classification using an LSTM classifier (40% grade)"
   ]
  },
  {
   "cell_type": "markdown",
   "id": "15c8f6ae-33f0-40c9-b22c-9ffbac4413ee",
   "metadata": {},
   "source": [
    "Use pytorch to implement an lstm model classifier. You can use any hyperparameters you want. You must report `classification_report` like previous example for all datasets. Remember your embeding layer initial value must be `emb_matrix`.\n",
    "\n",
    "You must train the model two times.\n",
    "First time freeze the embeding layer and second time fine-tune it end2end.\n",
    "After that compare these two results and explatin the trade-off between freezing or fine-tuning the embedding layer.\n",
    "You can read more about this in <a href=\"https://web.stanford.edu/class/cs224n/slides/cs224n-2019-lecture04-backprop.pdf\">this link</a>.\n",
    "\n",
    "Good Luck"
   ]
  },
  {
   "cell_type": "code",
   "execution_count": null,
   "id": "0b1ac873-86c1-4276-83e5-287dd0676fb7",
   "metadata": {},
   "outputs": [],
   "source": [
    "#____________YOUR CODE GOES HERE____________\n",
    "#___________________________________________\n",
    "#___________________________________________\n",
    "#___________________________________________\n",
    "#___________________________________________\n",
    "#___________________________________________"
   ]
  }
 ],
 "metadata": {
  "kernelspec": {
   "display_name": "Python [conda env:root] *",
   "language": "python",
   "name": "conda-root-py"
  },
  "language_info": {
   "codemirror_mode": {
    "name": "ipython",
    "version": 3
   },
   "file_extension": ".py",
   "mimetype": "text/x-python",
   "name": "python",
   "nbconvert_exporter": "python",
   "pygments_lexer": "ipython3",
   "version": "3.8.8"
  }
 },
 "nbformat": 4,
 "nbformat_minor": 5
}
