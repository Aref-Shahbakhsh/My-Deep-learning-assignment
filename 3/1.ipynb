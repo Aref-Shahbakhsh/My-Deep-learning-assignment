{
  "nbformat": 4,
  "nbformat_minor": 0,
  "metadata": {
    "colab": {
      "provenance": [],
      "collapsed_sections": []
    },
    "kernelspec": {
      "name": "python3",
      "display_name": "Python 3"
    },
    "language_info": {
      "name": "python"
    },
    "gpuClass": "standard"
  },
  "cells": [
    {
      "cell_type": "markdown",
      "source": [
        "# Deep Learning\n",
        "## HW3\n",
        "\n",
        "---\n",
        "\n",
        "Name: <font face=\"Times\" size=4 color=orange> ...\n",
        "<font face=\"Times\" size=3 color=black>\n",
        "    \n",
        "S.No.: <font face=\"Times\" size=4 color=orange> ...\n",
        "\n",
        "---"
      ],
      "metadata": {
        "id": "KQtTl4EQL7wg"
      }
    },
    {
      "cell_type": "markdown",
      "source": [
        "## 1. *Import libraries*"
      ],
      "metadata": {
        "id": "526ZKvhuOYiY"
      }
    },
    {
      "cell_type": "code",
      "source": [
        "import numpy as np\n",
        "import pandas as pd\n",
        "\n",
        "import torch\n",
        "import torch.nn as nn\n",
        "\n",
        "import seaborn as sns\n",
        "import matplotlib.pyplot as plt\n",
        "\n",
        "from sklearn.preprocessing import MinMaxScaler"
      ],
      "metadata": {
        "id": "CcZ_N14LQztE"
      },
      "execution_count": null,
      "outputs": []
    },
    {
      "cell_type": "markdown",
      "source": [
        "## 2. *Load data*"
      ],
      "metadata": {
        "id": "Dx2W6PLEcg21"
      }
    },
    {
      "cell_type": "code",
      "source": [
        "data_csv = pd.read_csv(\"/content/Data.csv\")\n",
        "data = data_csv.iloc[:,1:2]\n",
        "scaler = MinMaxScaler()\n",
        "data = scaler.fit_transform(data)"
      ],
      "metadata": {
        "id": "A6OU1dFUct4L"
      },
      "execution_count": null,
      "outputs": []
    },
    {
      "cell_type": "markdown",
      "source": [
        "## 3. *Training and test data*"
      ],
      "metadata": {
        "id": "WxnfzbHPeyuD"
      }
    },
    {
      "cell_type": "code",
      "source": [
        "x, y = [], []\n",
        "seq_len = 4\n",
        "for i in range(len(data)-seq_len-1):\n",
        "  x.append(np.array(data[i:(i+seq_len)]))\n",
        "  y.append(np.array(data[i+seq_len]))\n",
        "\n",
        "train_size = int(len(x) * 0.8)\n",
        "\n",
        "####################\n",
        "# YOUR CODE\n",
        "x_train = \n",
        "y_train = \n",
        "\n",
        "x_test = \n",
        "y_test = \n",
        "####################"
      ],
      "metadata": {
        "id": "_qoe4zK1e8oC"
      },
      "execution_count": null,
      "outputs": []
    },
    {
      "cell_type": "markdown",
      "source": [
        "## 4. *Build the structure of models*"
      ],
      "metadata": {
        "id": "MLb2Pd9ungw-"
      }
    },
    {
      "cell_type": "code",
      "source": [
        "class LSTM(nn.Module):\n",
        "    def __init__(self, input_size, hidden_size, num_layers, output_size):\n",
        "        super(LSTM, self).__init__()\n",
        "        ####################\n",
        "        # YOUR CODE\n",
        "        \n",
        "        ####################\n",
        "\n",
        "    def forward(self, x):\n",
        "        ####################\n",
        "        # YOUR CODE \n",
        "        \n",
        "        return out\n",
        "        ####################\n",
        "\n",
        "class GRU(nn.Module):\n",
        "    def __init__(self, input_size, hidden_size, num_layers, output_size):\n",
        "        super(GRU, self).__init__()\n",
        "        ####################\n",
        "        # YOUR CODE\n",
        "        \n",
        "        ####################\n",
        "\n",
        "    def forward(self, x):\n",
        "        ####################\n",
        "        # YOUR CODE\n",
        "        \n",
        "        return out\n",
        "        ####################\n"
      ],
      "metadata": {
        "id": "rtESFzzFn29e"
      },
      "execution_count": null,
      "outputs": []
    },
    {
      "cell_type": "markdown",
      "source": [
        "## 5. *Train and test the models*\n",
        "\n",
        "\n",
        "\n",
        "\n"
      ],
      "metadata": {
        "id": "c7wia5TlwNGy"
      }
    },
    {
      "cell_type": "code",
      "source": [
        "input_size = 1\n",
        "hidden_size = 2\n",
        "num_layers = 1\n",
        "output_size = 1\n",
        "\n",
        "num_epochs = 500\n",
        "learning_rate = 1e-2\n",
        " \n",
        "####################\n",
        "# YOUR CODE\n",
        "lstm = \n",
        "gru = \n",
        "criterion = \n",
        "lstm_optimizer = \n",
        "gru_optimizer = \n",
        "####################\n",
        "\n",
        "def train_test(model, criterion, optimizer, x_train, y_train, num_epochs, learning_rate):\n",
        "    epochs = np.zeros(num_epochs)\n",
        "    train_losses = np.zeros(num_epochs)\n",
        "    test_losses = np.zeros(num_epochs)\n",
        "    \n",
        "    for epoch in range(num_epochs):\n",
        "        # Train the model\n",
        "        ####################\n",
        "        # YOUR CODE\n",
        "        \n",
        "        ####################\n",
        "        \n",
        "        # Test the model\n",
        "        ####################\n",
        "        # YOUR CODE\n",
        "        \n",
        "        ####################\n",
        "        \n",
        "        print('Epoch: {0} , Train_loss: {1:.5f} , Test_loss: {2:.5f}'.format(epoch+1, train_loss, test_loss))\n",
        "\n",
        "    return epochs, train_losses, test_losses"
      ],
      "metadata": {
        "id": "qHq5TlFqwdDs"
      },
      "execution_count": null,
      "outputs": []
    },
    {
      "cell_type": "code",
      "source": [
        "lstm_epochs, lstm_train_losses, lstm_test_losses = train_test(lstm, criterion, lstm_optimizer, x_train, y_train, num_epochs, learning_rate)"
      ],
      "metadata": {
        "id": "1w7RHzHn1TnD"
      },
      "execution_count": null,
      "outputs": []
    },
    {
      "cell_type": "code",
      "source": [
        "gru_epochs, gru_train_losses, gru_test_losses = train_test(gru, criterion, gru_optimizer, x_train, y_train, num_epochs, learning_rate)"
      ],
      "metadata": {
        "id": "1BXSeWYPYHhB"
      },
      "execution_count": null,
      "outputs": []
    },
    {
      "cell_type": "markdown",
      "source": [
        "## 6. *Compare LSTM and GRU loss*"
      ],
      "metadata": {
        "id": "f3aYTNJQbyTK"
      }
    },
    {
      "cell_type": "code",
      "source": [
        "sns.set_style(\"darkgrid\")    \n",
        "\n",
        "fig = plt.figure(figsize=(18,8))\n",
        "fig.subplots_adjust(wspace=0.3, hspace=0.3)\n",
        "\n",
        "plt.subplot(1, 2, 1)\n",
        "ax = sns.lineplot(x = lstm_epochs, y = lstm_train_losses, label=\"Training loss\", color=\"royalblue\")\n",
        "ax = sns.lineplot(x = lstm_epochs, y = lstm_test_losses, label=\"test loss\", color=\"tomato\")\n",
        "ax.set_title(\"Training and test Loss (LSTM)\", size = 14, fontweight=\"bold\")\n",
        "ax.set_xlabel(\"Epoch\", size = 14)\n",
        "ax.set_ylabel(\"Loss\", size = 14)\n",
        "ax.set_xticklabels('', size=10)\n",
        "\n",
        "plt.subplot(1, 2, 2)\n",
        "ax = sns.lineplot(x = gru_epochs, y = gru_train_losses, label=\"Training loss\", color=\"royalblue\")\n",
        "ax = sns.lineplot(x = gru_epochs, y = gru_test_losses, label=\"Test loss\", color=\"tomato\")\n",
        "ax.set_title(\"Training and test Loss (GRU)\", size = 14, fontweight=\"bold\")\n",
        "ax.set_xlabel(\"Epoch\", size = 14)\n",
        "ax.set_ylabel(\"Loss\", size = 14)\n",
        "ax.set_xticklabels('', size=10)"
      ],
      "metadata": {
        "id": "TtbzYOLB25oe"
      },
      "execution_count": null,
      "outputs": []
    },
    {
      "cell_type": "markdown",
      "source": [
        "### 7. *Make predictions*"
      ],
      "metadata": {
        "id": "wt091lFSbU0G"
      }
    },
    {
      "cell_type": "code",
      "source": [
        "x_data = torch.Tensor(np.array(x))\n",
        "y_data = torch.Tensor(np.array(y))\n",
        "\n",
        "y_data = pd.DataFrame(scaler.inverse_transform(y_data.detach().numpy()))\n",
        "\n",
        "lstm_data_predict = lstm(x_data).detach().numpy()\n",
        "gru_data_predict = gru(x_data).detach().numpy()\n",
        "\n",
        "lstm_data_predict = pd.DataFrame(scaler.inverse_transform(lstm_data_predict))\n",
        "gru_data_predict = pd.DataFrame(scaler.inverse_transform(gru_data_predict))"
      ],
      "metadata": {
        "id": "VzPUFHRpcbjm"
      },
      "execution_count": null,
      "outputs": []
    },
    {
      "cell_type": "markdown",
      "source": [
        "## 8. *Compare LSTM and GRU prediction results*"
      ],
      "metadata": {
        "id": "Anuu6KGxxJAs"
      }
    },
    {
      "cell_type": "code",
      "source": [
        "sns.set_style(\"darkgrid\")    \n",
        "\n",
        "fig = plt.figure(figsize=(18,8))\n",
        "fig.subplots_adjust(wspace=0.3, hspace=0.3)\n",
        "\n",
        "plt.subplot(1, 2, 1)\n",
        "ax = sns.lineplot(x = y_data.index, y = y_data[0], label=\"Data\", color=\"royalblue\")\n",
        "ax = sns.lineplot(x = lstm_data_predict.index, y = lstm_data_predict[0], label=\"Prediction\", color=\"tomato\")\n",
        "ax.set_title(\"Passengers prediction (LSTM)\", size = 14, fontweight=\"bold\")\n",
        "ax.set_xlabel(\"Month\", size = 14)\n",
        "ax.set_ylabel(\"Passengers\", size = 14)\n",
        "ax.set_xticklabels('', size=10)\n",
        "\n",
        "plt.subplot(1, 2, 2)\n",
        "ax = sns.lineplot(x = y_data.index, y = y_data[0], label=\"Data\", color=\"royalblue\")\n",
        "ax = sns.lineplot(x = gru_data_predict.index, y = gru_data_predict[0], label=\"Prediction\", color=\"tomato\")\n",
        "ax.set_title(\"Passengers prediction (GRU)\", size = 14, fontweight=\"bold\")\n",
        "ax.set_xlabel(\"Month\", size = 14)\n",
        "ax.set_ylabel(\"Passengers\", size = 14)\n",
        "ax.set_xticklabels('', size=10)"
      ],
      "metadata": {
        "id": "RWimRFFuvcvm"
      },
      "execution_count": null,
      "outputs": []
    }
  ]
}