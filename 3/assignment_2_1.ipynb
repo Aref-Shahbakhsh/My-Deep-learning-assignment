{
 "nbformat": 4,
 "nbformat_minor": 0,
 "metadata": {
  "colab": {
   "name": "assignment_05.ipynb",
   "version": "0.3.2",
   "provenance": [],
   "collapsed_sections": [],
   "toc_visible": true
  },
  "kernelspec": {
   "name": "python3",
   "display_name": "Python 3"
  },
  "accelerator": "GPU"
 },
 "cells": [
  {
   "cell_type": "markdown",
   "metadata": {
    "id": "2hSzcqgzluB8",
    "colab_type": "text",
    "pycharm": {
     "name": "#%% md\n"
    }
   },
   "source": [
    "# Time Series Prediction"
   ]
  },
  {
   "cell_type": "markdown",
   "metadata": {
    "id": "cQoJi3q_I6fg",
    "colab_type": "text",
    "pycharm": {
     "name": "#%% md\n"
    }
   },
   "source": [
    "Due to the sequential charasteristics of RNNs, they can be used for time series prediction task. A time series is a series of data points indexed in time order. One example of time series is stock prices at regular intervals of time (hourly, daily, etc.). There have been many attempts to forecast stocks market, some belive predicting the market is impossible because of its total random behaviour, while some (mainly stocks technical analysts) belive not 100% accurate, but it is partly predictable, as they say \"history repeats itself\" (this phrase indicates that there might be some repetitive patterns in market's behaviour). \n",
    "\n",
    "In this practice, we are going to discover ourselves whether it is possible or not, whether we are going to be rich or broke :)  "
   ]
  },
  {
   "cell_type": "markdown",
   "metadata": {
    "id": "tBLpUtW_5Q9K",
    "colab_type": "text",
    "pycharm": {
     "name": "#%% md\n"
    }
   },
   "source": [
    "## Stocks Prediction Using LSTM"
   ]
  },
  {
   "cell_type": "markdown",
   "metadata": {
    "id": "EfO4ddWV5ZLS",
    "colab_type": "text",
    "pycharm": {
     "name": "#%% md\n"
    }
   },
   "source": [
    "LSTMs can be used for modeling time series (such as stocks market) as they are capable of remembering past information. Stock price prediction is similar to any other machine learning problem where we are given a set of features and we have to predict a corresponding value, in this case our features are the closing prices of stocks in the past 60 days and we want to predict next closing price. We can use LSTM to model this 60 days sequence by a hidden state as we do in all other sequence modeling problems:\n",
    "\n",
    "<p align=\"center\"><img src=\"https://drive.google.com/thumbnail?id=1hml7fG9_GKDLH1068Wq_Jk-D09FtQk17&sz=w1000-h1000\" width=\"800\"/></p>\n",
    "\n",
    "</br>\n",
    "\n",
    "We are going to solve these two following problems:\n",
    "* 1 . Predicting the exact price at time $T_i$ given prices at times $T_{i-60}$, ..., $T_{i-1}$\n",
    "\n",
    "* 2 . A simplified version of previous problem, predicting the direction of price at time $T_i$ (whether it is increasing or decreasing) given prices at times $T_{i-60}$, ..., $T_{i-1}$\n",
    "\n",
    "\n",
    "So the first task is a regression and the second one is a classification problem.\n"
   ]
  },
  {
   "cell_type": "markdown",
   "metadata": {
    "id": "JI0Ub0KuK0wG",
    "colab_type": "text",
    "pycharm": {
     "name": "#%% md\n"
    }
   },
   "source": [
    "### 1. Predicting The Exact Price"
   ]
  },
  {
   "cell_type": "markdown",
   "metadata": {
    "id": "LSNVvB-apMAr",
    "colab_type": "text",
    "pycharm": {
     "name": "#%% md\n"
    }
   },
   "source": [
    "**DATA:**\n",
    "\n",
    "The data that we are going to use are from ***Yahoo Finance*** (a place to look up stock market data and company news). We can accsess historical market data from *Yahoo Finance* using python ***yfinance*** module. \n",
    "\n",
    "Let's install *yfinance* module first:"
   ]
  },
  {
   "cell_type": "code",
   "metadata": {
    "id": "_zYyq0SlbY_a",
    "colab_type": "code",
    "colab": {},
    "pycharm": {
     "name": "#%%\n"
    }
   },
   "source": [
    "from IPython.display import clear_output\n",
    "\n",
    "!pip install yfinance\n",
    "\n",
    "clear_output()"
   ],
   "execution_count": 1,
   "outputs": []
  },
  {
   "cell_type": "markdown",
   "metadata": {
    "id": "9wAwSxCbbWlt",
    "colab_type": "text",
    "pycharm": {
     "name": "#%% md\n"
    }
   },
   "source": [
    "For training our algorithm, we will be using the Apple stock prices from 1st January 2014 to 1st January 2018. In order to evaluate the performance of the algorithm, we will be using the prices from 1st January 2018 to 1st January 2019. \n",
    "\n",
    "Let's get the data and visualise it:"
   ]
  },
  {
   "cell_type": "code",
   "metadata": {
    "id": "U2Q70Xcr3nNR",
    "colab_type": "code",
    "outputId": "d6b68bfd-b47d-4aeb-8ac8-6d4647a3a58b",
    "colab": {
     "base_uri": "https://localhost:8080/",
     "height": 281
    },
    "pycharm": {
     "name": "#%%\n",
     "is_executing": true
    }
   },
   "source": [
    "\n",
    "import matplotlib.pyplot as plt\n",
    "import yfinance as yf  \n",
    "\n",
    "train_data = yf.download('AAPL','2014-01-01','2018-01-01')\n",
    "test_data = yf.download('AAPL','2018-01-01','2019-01-01')\n",
    "\n",
    "train_data.Close.plot()\n",
    "test_data.Close.plot()\n",
    "plt.legend ([\"Train\", \"Test\"])\n",
    "\n",
    "clear_output()\n",
    "plt.show()"
   ],
   "execution_count": null,
   "outputs": []
  },
  {
   "cell_type": "markdown",
   "metadata": {
    "id": "AIIDgdQfcSK3",
    "colab_type": "text",
    "pycharm": {
     "name": "#%% md\n"
    }
   },
   "source": [
    "As you can see our data is just a sequence of numbers ordered by time. \n",
    "\n",
    "In order to normalize our data we scale them between 0 and 1: "
   ]
  },
  {
   "cell_type": "code",
   "metadata": {
    "id": "8ge5thz254Kf",
    "colab_type": "code",
    "outputId": "5e3d22e6-5386-4205-86ff-bc1c57400ee2",
    "colab": {
     "base_uri": "https://localhost:8080/",
     "height": 54
    },
    "pycharm": {
     "name": "#%%\n",
     "is_executing": true
    }
   },
   "source": [
    "from sklearn.preprocessing import MinMaxScaler \n",
    "import numpy as np\n",
    "scaler = MinMaxScaler(feature_range = (0, 1)).fit(train_data.Close.values.reshape(-1, 1))\n",
    "\n",
    "train_scaled = scaler.transform(train_data.Close.values.reshape(-1, 1))\n",
    "test_scaled = scaler.transform(test_data.Close.values.reshape(-1, 1))  \n",
    "\n",
    "print (\"train_scaled.shape :\", train_scaled.shape)\n",
    "print (\"test_scaled.shape :\", test_scaled.shape)"
   ],
   "execution_count": null,
   "outputs": []
  },
  {
   "cell_type": "markdown",
   "metadata": {
    "id": "_9M3_Ch_eRFx",
    "colab_type": "text",
    "pycharm": {
     "name": "#%% md\n"
    }
   },
   "source": [
    "Now we create our input output pairs from our sequence:"
   ]
  },
  {
   "cell_type": "code",
   "metadata": {
    "id": "NOs8KBcj6mpG",
    "colab_type": "code",
    "colab": {},
    "pycharm": {
     "name": "#%%\n"
    }
   },
   "source": [
    "train_features_set = []  \n",
    "train_labels = []  \n",
    "for i in range(60, train_scaled.shape[0]):  \n",
    "    train_features_set.append(train_scaled[i-60:i, 0])\n",
    "    train_labels.append(train_scaled[i, 0])"
   ],
   "execution_count": 0,
   "outputs": []
  },
  {
   "cell_type": "markdown",
   "metadata": {
    "id": "zWmPH1aqfdzH",
    "colab_type": "text",
    "pycharm": {
     "name": "#%% md\n"
    }
   },
   "source": [
    "We need to convert these lists to the numpy arrays before we can use them for training. Then in order to train LSTM on our data, we need to convert our data into the shape accepted by the LSTM. We need to convert our data into three-dimensional format. The first dimension is the number of records or rows in the dataset which is 1007 in our case. The second dimension is the number of time steps which is 60 while the last dimension is the number of indicators. Since we are only using one feature, i.e Closing price, the number of indicators will be one."
   ]
  },
  {
   "cell_type": "code",
   "metadata": {
    "id": "bVh8Igbrfw8L",
    "colab_type": "code",
    "colab": {},
    "pycharm": {
     "name": "#%%\n"
    }
   },
   "source": [
    "train_features_set, train_labels = np.array(train_features_set), np.array(train_labels)\n",
    "train_features_set = np.reshape(train_features_set, (train_features_set.shape[0], train_features_set.shape[1], 1))"
   ],
   "execution_count": 0,
   "outputs": []
  },
  {
   "cell_type": "markdown",
   "metadata": {
    "id": "tI8HP9NqiYzv",
    "colab_type": "text",
    "pycharm": {
     "name": "#%% md\n"
    }
   },
   "source": [
    "Now let's create and train a simple model, our model has a stack of 4 lstm layers and a single output layer: "
   ]
  },
  {
   "cell_type": "code",
   "metadata": {
    "id": "H0UHr-Ef8pHr",
    "colab_type": "code",
    "colab": {},
    "pycharm": {
     "name": "#%%\n"
    }
   },
   "source": [
    "from keras.models import Sequential  \n",
    "from keras.layers import Dense  \n",
    "from keras.layers import LSTM  \n",
    "from keras.layers import Dropout  \n",
    "\n",
    "model = Sequential()\n",
    "model.add(LSTM(units=50, return_sequences=True, input_shape=(train_features_set.shape[1], 1)))\n",
    "model.add(Dropout(0.2))\n",
    "\n",
    "model.add(LSTM(units=50, return_sequences=True))  \n",
    "model.add(Dropout(0.2))\n",
    "\n",
    "model.add(LSTM(units=50, return_sequences=True))  \n",
    "model.add(Dropout(0.2))\n",
    "\n",
    "model.add(LSTM(units=50))  \n",
    "model.add(Dropout(0.2))\n",
    "\n",
    "# we have a single output so this layer has 1 unit\n",
    "model.add(Dense(units = 1))\n",
    "\n",
    "model.compile(optimizer = 'adam', loss = 'mean_squared_error')\n",
    "\n",
    "model.fit(train_features_set, train_labels, epochs = 100, batch_size = 30)\n",
    "\n",
    "clear_output()"
   ],
   "execution_count": 0,
   "outputs": []
  },
  {
   "cell_type": "markdown",
   "metadata": {
    "id": "6n8LuRDDqKkL",
    "colab_type": "text",
    "pycharm": {
     "name": "#%% md\n"
    }
   },
   "source": [
    "Now we create our test features set similar to what we did with our training set:"
   ]
  },
  {
   "cell_type": "code",
   "metadata": {
    "id": "8_Z0-AoCqZwV",
    "colab_type": "code",
    "colab": {},
    "pycharm": {
     "name": "#%%\n"
    }
   },
   "source": [
    "test_scaled = scaler.transform(test_data.Close.values.reshape(-1, 1))  \n",
    "\n",
    "test_features_set = []  \n",
    "for i in range(60, test_scaled.shape[0]):  \n",
    "    test_features_set.append(test_scaled[i-60:i, 0])\n",
    "    \n",
    "test_features_set = np.array(test_features_set)  \n",
    "test_features_set = np.reshape(test_features_set, (test_features_set.shape[0], test_features_set.shape[1], 1))"
   ],
   "execution_count": 0,
   "outputs": []
  },
  {
   "cell_type": "markdown",
   "metadata": {
    "id": "19NNvTHHqsdH",
    "colab_type": "text",
    "pycharm": {
     "name": "#%% md\n"
    }
   },
   "source": [
    "And finaly let's see the results:"
   ]
  },
  {
   "cell_type": "code",
   "metadata": {
    "id": "nU6kKlck-UAL",
    "colab_type": "code",
    "outputId": "c8ae8f5f-7351-450b-acf8-4802f5d48076",
    "colab": {
     "base_uri": "https://localhost:8080/",
     "height": 281
    },
    "pycharm": {
     "name": "#%%\n",
     "is_executing": true
    }
   },
   "source": [
    "predictions = model.predict(test_features_set)\n",
    "predictions = scaler.inverse_transform(predictions)  \n",
    "  \n",
    "plt.plot(test_data.Close.values[60:], color='blue', label='Actual Apple Stock Price')  \n",
    "plt.plot(predictions , color='red', label='Predicted Apple Stock Price')  \n",
    "plt.title('Apple Stock Price Prediction on Test Set')    \n",
    "plt.ylabel('Apple Stock Price')  \n",
    "plt.legend()  \n",
    "plt.show()"
   ],
   "execution_count": null,
   "outputs": []
  },
  {
   "cell_type": "markdown",
   "metadata": {
    "id": "Ujgd8pNxre8D",
    "colab_type": "text",
    "pycharm": {
     "name": "#%% md\n"
    }
   },
   "source": [
    "* At first sight, it seems the predictions are following  pretty well the actual trend. What do you think about the result? Are you willing to risk using this predictions in real world? "
   ]
  },
  {
   "cell_type": "markdown",
   "metadata": {
    "id": "stxlKK1utSvU",
    "colab_type": "text",
    "pycharm": {
     "name": "#%% md\n"
    }
   },
   "source": [
    "$\\color{red}{\\text{Write you answer here}}$"
   ]
  },
  {
   "cell_type": "markdown",
   "metadata": {
    "id": "zzlrh1NHtdnS",
    "colab_type": "text",
    "pycharm": {
     "name": "#%% md\n"
    }
   },
   "source": [
    "### 2. Predicting The Direction"
   ]
  },
  {
   "cell_type": "markdown",
   "metadata": {
    "id": "VHLBKZxXtpOP",
    "colab_type": "text",
    "pycharm": {
     "name": "#%% md\n"
    }
   },
   "source": [
    "Previous model can be evaluated  just visually. We can evaluate a classification task using its special measures (such as f-score or accuracy) much better than a regression task. So in order to finaly decide whether the stocks market prediction is practical or not, we define this second task.\n",
    "\n",
    "Implement a model similar to previous one, this time the task is to predict whether the price is going to increase or decrease (output will be either 1 or 0 respectively) at time $T_i$ given prices at times $T_{i-60}$, ..., $T_{i-1}$ :"
   ]
  },
  {
   "cell_type": "code",
   "metadata": {
    "id": "9a9C84JpuUiV",
    "colab_type": "code",
    "colab": {},
    "pycharm": {
     "name": "#%%\n"
    }
   },
   "source": [
    "########################################\n",
    "#     Put your implementation here     #\n",
    "########################################"
   ],
   "execution_count": 0,
   "outputs": []
  },
  {
   "cell_type": "markdown",
   "metadata": {
    "id": "FhvzyKn_ucd0",
    "colab_type": "text",
    "pycharm": {
     "name": "#%% md\n"
    }
   },
   "source": [
    "Evaluate your trained model using the test set and report accuracy and f1-score your model archived: "
   ]
  },
  {
   "cell_type": "code",
   "metadata": {
    "id": "NW-MGFhgu4Lk",
    "colab_type": "code",
    "colab": {},
    "pycharm": {
     "name": "#%%\n"
    }
   },
   "source": [
    "########################################\n",
    "#     Put your implementation here     #\n",
    "########################################"
   ],
   "execution_count": 0,
   "outputs": []
  },
  {
   "cell_type": "markdown",
   "metadata": {
    "id": "DaFxn4MR_4-4",
    "colab_type": "text",
    "pycharm": {
     "name": "#%% md\n"
    }
   },
   "source": [
    "Do not worry if your results are not as promising as before :))\n",
    "* Comparing new results with previuos ones, why do you think this happens? Doesn't this task supposed to be an easier version of the previous one (if you are able to predict the actual price, you are already able to predict the direction of price trend)? Explain your toughts:\n"
   ]
  },
  {
   "cell_type": "markdown",
   "metadata": {
    "id": "byIh3cwmBLt9",
    "colab_type": "text",
    "pycharm": {
     "name": "#%% md\n"
    }
   },
   "source": [
    "$\\color{red}{\\text{Write you answer here}}$"
   ]
  },
  {
   "cell_type": "markdown",
   "metadata": {
    "id": "v-ekiL12B6th",
    "colab_type": "text",
    "pycharm": {
     "name": "#%% md\n"
    }
   },
   "source": [
    "* Intuitively explain what kind of properties do you think a time series need to have in order to be predictable? "
   ]
  },
  {
   "cell_type": "markdown",
   "metadata": {
    "id": "uAtpWmGFEIG4",
    "colab_type": "text",
    "pycharm": {
     "name": "#%% md\n"
    }
   },
   "source": [
    "$\\color{red}{\\text{Write you answer here}}$"
   ]
  }
 ]
}