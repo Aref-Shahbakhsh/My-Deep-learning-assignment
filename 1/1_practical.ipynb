{
  "cells": [
    {
      "cell_type": "markdown",
      "metadata": {
        "id": "NeNmbHOK4zUh"
      },
      "source": [
        "# Deep Learning (Fall 1401 - Dr. Beigy)\n",
        "\n",
        "Name:Aref Shahbakhsh\n",
        "</br>\n",
        "Student Number:400211202"
      ]
    },
    {
      "cell_type": "markdown",
      "metadata": {
        "id": "fm_jnu2s9f96"
      },
      "source": [
        "# 0. Pre"
      ]
    },
    {
      "cell_type": "markdown",
      "metadata": {
        "id": "iD5e-aq4wLTF"
      },
      "source": []
    },
    {
      "cell_type": "markdown",
      "metadata": {
        "id": "Gza3bDN6_XCm"
      },
      "source": [
        "## Introduction\n",
        "The purpose of this notebook is to teach you some essentials about the Pytorch library. We will also implement our own dataloader, model, and trainer, so that after we train the model, it can distinguish between different cloths! The good news is, if you do this notebook carefully and appropriately, you will have a nice snippet-base to use later on. So let's start `shift+Enter`ing :)"
      ]
    },
    {
      "cell_type": "markdown",
      "metadata": {
        "id": "0JxvJTa4DVUu"
      },
      "source": [
        "## Requirements"
      ]
    },
    {
      "cell_type": "code",
      "execution_count": null,
      "metadata": {
        "id": "w0OtPsBE9ix5"
      },
      "outputs": [],
      "source": [
        "!pip install -q numpy torch torchvision pillow tqdm"
      ]
    },
    {
      "cell_type": "markdown",
      "metadata": {
        "id": "DkOFz0w1DW99"
      },
      "source": [
        "## Imports"
      ]
    },
    {
      "cell_type": "code",
      "execution_count": null,
      "metadata": {
        "id": "6x1G2QWF8sj-"
      },
      "outputs": [],
      "source": [
        "from copy import deepcopy\n",
        "from math import ceil\n",
        "\n",
        "import numpy as np\n",
        "import torch\n",
        "import torch.nn as nn\n",
        "import torchvision.transforms as transforms\n",
        "from sklearn.metrics import accuracy_score\n",
        "from torchvision.datasets import FashionMNIST\n",
        "from tqdm.notebook import tqdm"
      ]
    },
    {
      "cell_type": "markdown",
      "metadata": {
        "id": "Tf7PTmWm8Po8"
      },
      "source": [
        "# 1. Data"
      ]
    },
    {
      "cell_type": "markdown",
      "metadata": {
        "id": "sY13BAcG8UPZ"
      },
      "source": [
        "## Dataset and Dataloader"
      ]
    },
    {
      "cell_type": "markdown",
      "metadata": {
        "id": "kswdRGHK-VCy"
      },
      "source": [
        "### Dataset\n",
        "We will use Fashion-MNIST dataset for our experiments in this notebook. It is a small dataset, so you will not need a GPU for your training."
      ]
    },
    {
      "cell_type": "code",
      "execution_count": null,
      "metadata": {
        "colab": {
          "base_uri": "https://localhost:8080/",
          "height": 443,
          "referenced_widgets": [
            "cd83ed61112e4a769d0211395b205354",
            "d28ed9b8cbad442584cd943cc40588e1",
            "3ab796a4dc1241039062d229062b1144",
            "0567ccaad10f4c9d9f7fae21051b4a6e",
            "c1e04c1eae614a81987c315d06295584",
            "069b77e7fef64053af6532f405b1240e",
            "8bd8f4a3746b4a70bf57775d19bb9392",
            "665ad93487ad4e7aa7f70da69626e81a",
            "52bcb35239754c7fabf4a1e609131de2",
            "f8dca5b560e248b99c202627668af109",
            "dbda4cfe979c4cf0a66d64f790a73e14",
            "8c2a519f6fea4d029df7b841add57a50",
            "3b67a4af9ef44220b675021d2becf8ab",
            "e6701e8684a3477193fcdfde04472627",
            "9ff86d8e00f74f8f9cef97eebe606bc0",
            "8efbb461328b4c0bbbf4d8f38a9d619e",
            "c512e7ec6aae42d6b3ceb63ef72a4a29",
            "6592f7cf3cbd4b289593b7f2a3ab889d",
            "b036d9cd60b9443cbe3aa1c74db61292",
            "8922b4db165842199b169d5ad7eeaf1e",
            "8c4ca0f7b2db4a1a935f5992c78bf899",
            "a8feb09fff1a45598fe30e681205765e",
            "017e11277f754c69b26634dd4f2eaeb3",
            "0f636c5989cc453fb0bf2d76c3c76b04",
            "1f6a051154ca46b487245789f7e45930",
            "add2827bf7bb4c7db6765bb102029eda",
            "7ee5f85c2c4440d6a45b1830e11dba54",
            "b68d8f90c85b45ba8e47d471a7f1c473",
            "c145490a331c430eb310b5a7737e474e",
            "5d7d6d5026e14536bda487fa3574dac0",
            "08dbc423e53b41b9bd4c19f2f1a04cad",
            "0f7e1396227a4376943092a11373f721",
            "04fb3b8bbe4c4e74ab8619fd1f8bd2fa",
            "b4db0194ef03458087143105a85ad2c1",
            "82ad774d5c684d1eaf68c7fd0d2b51c1",
            "acbe515cf33c4645be7a65bdc483a7b2",
            "643735303e6f43f892837cbe86bf7b57",
            "1586b68a9612468db657b82ac945d71b",
            "25aaa56c027442f084e1342c7a4ef0cf",
            "b93e031e6e09484e8a4ccd8988d92413",
            "c6044ddaf41c4e53a41f4f46bbc044c1",
            "f30d3c718ea04d48a35d8ecd234f6a06",
            "878ebf17961f49b281f1bd7908c7657e",
            "64d3d78945cd4258a2794e43c1bf6044"
          ]
        },
        "id": "pfAte-x09wA6",
        "outputId": "35cf3b5c-e03f-468f-8a60-e77bf57bfac4"
      },
      "outputs": [
        {
          "output_type": "stream",
          "name": "stdout",
          "text": [
            "Downloading http://fashion-mnist.s3-website.eu-central-1.amazonaws.com/train-images-idx3-ubyte.gz\n",
            "Downloading http://fashion-mnist.s3-website.eu-central-1.amazonaws.com/train-images-idx3-ubyte.gz to fashion-mnist/FashionMNIST/raw/train-images-idx3-ubyte.gz\n"
          ]
        },
        {
          "output_type": "display_data",
          "data": {
            "text/plain": [
              "  0%|          | 0/26421880 [00:00<?, ?it/s]"
            ],
            "application/vnd.jupyter.widget-view+json": {
              "version_major": 2,
              "version_minor": 0,
              "model_id": "cd83ed61112e4a769d0211395b205354"
            }
          },
          "metadata": {}
        },
        {
          "output_type": "stream",
          "name": "stdout",
          "text": [
            "Extracting fashion-mnist/FashionMNIST/raw/train-images-idx3-ubyte.gz to fashion-mnist/FashionMNIST/raw\n",
            "\n",
            "Downloading http://fashion-mnist.s3-website.eu-central-1.amazonaws.com/train-labels-idx1-ubyte.gz\n",
            "Downloading http://fashion-mnist.s3-website.eu-central-1.amazonaws.com/train-labels-idx1-ubyte.gz to fashion-mnist/FashionMNIST/raw/train-labels-idx1-ubyte.gz\n"
          ]
        },
        {
          "output_type": "display_data",
          "data": {
            "text/plain": [
              "  0%|          | 0/29515 [00:00<?, ?it/s]"
            ],
            "application/vnd.jupyter.widget-view+json": {
              "version_major": 2,
              "version_minor": 0,
              "model_id": "8c2a519f6fea4d029df7b841add57a50"
            }
          },
          "metadata": {}
        },
        {
          "output_type": "stream",
          "name": "stdout",
          "text": [
            "Extracting fashion-mnist/FashionMNIST/raw/train-labels-idx1-ubyte.gz to fashion-mnist/FashionMNIST/raw\n",
            "\n",
            "Downloading http://fashion-mnist.s3-website.eu-central-1.amazonaws.com/t10k-images-idx3-ubyte.gz\n",
            "Downloading http://fashion-mnist.s3-website.eu-central-1.amazonaws.com/t10k-images-idx3-ubyte.gz to fashion-mnist/FashionMNIST/raw/t10k-images-idx3-ubyte.gz\n"
          ]
        },
        {
          "output_type": "display_data",
          "data": {
            "text/plain": [
              "  0%|          | 0/4422102 [00:00<?, ?it/s]"
            ],
            "application/vnd.jupyter.widget-view+json": {
              "version_major": 2,
              "version_minor": 0,
              "model_id": "017e11277f754c69b26634dd4f2eaeb3"
            }
          },
          "metadata": {}
        },
        {
          "output_type": "stream",
          "name": "stdout",
          "text": [
            "Extracting fashion-mnist/FashionMNIST/raw/t10k-images-idx3-ubyte.gz to fashion-mnist/FashionMNIST/raw\n",
            "\n",
            "Downloading http://fashion-mnist.s3-website.eu-central-1.amazonaws.com/t10k-labels-idx1-ubyte.gz\n",
            "Downloading http://fashion-mnist.s3-website.eu-central-1.amazonaws.com/t10k-labels-idx1-ubyte.gz to fashion-mnist/FashionMNIST/raw/t10k-labels-idx1-ubyte.gz\n"
          ]
        },
        {
          "output_type": "display_data",
          "data": {
            "text/plain": [
              "  0%|          | 0/5148 [00:00<?, ?it/s]"
            ],
            "application/vnd.jupyter.widget-view+json": {
              "version_major": 2,
              "version_minor": 0,
              "model_id": "b4db0194ef03458087143105a85ad2c1"
            }
          },
          "metadata": {}
        },
        {
          "output_type": "stream",
          "name": "stdout",
          "text": [
            "Extracting fashion-mnist/FashionMNIST/raw/t10k-labels-idx1-ubyte.gz to fashion-mnist/FashionMNIST/raw\n",
            "\n"
          ]
        }
      ],
      "source": [
        "# Making datasets\n",
        "train_set = FashionMNIST(root='fashion-mnist', download=True, train=True)\n",
        "test_set = FashionMNIST(root='fashion-mnist', download=True, train=False)"
      ]
    },
    {
      "cell_type": "code",
      "execution_count": null,
      "metadata": {
        "colab": {
          "base_uri": "https://localhost:8080/",
          "height": 482
        },
        "id": "gE-4xjGp97vK",
        "outputId": "f019f0fd-9a11-44ff-c16b-3c6bb189da54"
      },
      "outputs": [
        {
          "output_type": "display_data",
          "data": {
            "text/plain": [
              "<Figure size 576x576 with 4 Axes>"
            ],
            "image/png": "[encoded data removed]"
          },
          "metadata": {
            "needs_background": "light"
          }
        }
      ],
      "source": [
        "# Testing samples\n",
        "######################   TODO 1.1   #########################\n",
        "# Write a function to plot 4 random images from the \n",
        "# training set with their respective labels\n",
        "###################### (5 points) #########################\n",
        "import matplotlib.pyplot as plt\n",
        "\n",
        "def plot_random_image(train_set):\n",
        "  labels_map = {\n",
        "    0: \"T-Shirt\",\n",
        "    1: \"Trouser\",\n",
        "    2: \"Pullover\",\n",
        "    3: \"Dress\",\n",
        "    4: \"Coat\",\n",
        "    5: \"Sandal\",\n",
        "    6: \"Shirt\",\n",
        "    7: \"Sneaker\",\n",
        "    8: \"Bag\",\n",
        "    9: \"Ankle Boot\",\n",
        "}\n",
        "  figure = plt.figure(figsize=(8, 8))\n",
        "  cols, rows = 2, 2\n",
        "  for i in range(1, cols * rows + 1):\n",
        "      sample_idx = torch.randint(len(train_set), size=(1,)).item()\n",
        "      img, label = (train_set[sample_idx])\n",
        "      transform = transforms.Compose([transforms.PILToTensor()])\n",
        "      img = transform(img)\n",
        "      figure.add_subplot(rows, cols, i)\n",
        "      plt.title(labels_map[label])\n",
        "      plt.axis(\"off\")\n",
        "      plt.imshow(img.squeeze(), cmap=\"gray\")\n",
        "  plt.show()\n",
        "\n",
        "\n",
        "plot_random_image(train_set)\n",
        "\n",
        " "
      ]
    },
    {
      "cell_type": "markdown",
      "metadata": {
        "id": "H2EI14N9BkoM"
      },
      "source": [
        "### Dataloader\n",
        "Dataloader is an object that combines a dataset and a sampler, and provides an iterable over the given dataset. Pytorch has its own dataloader, but here, to understand what lies under the hood, we will implement our custom one."
      ]
    },
    {
      "cell_type": "code",
      "execution_count": null,
      "metadata": {
        "id": "XETeSFh0BFh7"
      },
      "outputs": [],
      "source": [
        "class CustomDataloader:\n",
        "    def __init__(self, dataset, batch_size, shuffle=False):\n",
        "        self.dataset = dataset\n",
        "        self.batch_size = batch_size\n",
        "        self.shuffle = shuffle\n",
        "        # images passed to the dataloader are PIL objests.\n",
        "        # we need to convert those to tensors:\n",
        "        self.transform = transforms.Compose([\n",
        "            transforms.PILToTensor()\n",
        "        ])\n",
        "        \n",
        "    def __len__(self):\n",
        "        ######################   TODO 1.2   ########################\n",
        "        # return the count of batches.\n",
        "        \n",
        "        return int(len(self.dataset)/self.batch_size)\n",
        "        ###################### (1 points) #########################\n",
        "\n",
        "    def __iter__(self, calm=True):\n",
        "        indexes = list(range(len(self.dataset)))\n",
        "        batch_imgs = []\n",
        "        batch_imgs_transformed = torch.tensor([])\n",
        "        batch_labels = []\n",
        "        \n",
        "\n",
        "        for idx in range(0, len(self.dataset), self.batch_size):\n",
        "            ######################   TODO 1.3   ########################\n",
        "            # construct a batch of images respective to the indexes:\n",
        "            # 1. construct a list of images\n",
        "            # 2. convert the list to tensors\n",
        "            # 3. convert tensors to float32 (each tensor element should be between 0 and 1)\n",
        "            # 4. construct the respective labels list\n",
        "            batch_indexes = idx/self.batch_size\n",
        "            #---------------------------------------------------\n",
        "            \n",
        "            for j in range(idx,idx+self.batch_size):\n",
        "                batch_imgs.append(self.dataset[j][0])\n",
        "                a = (self.transform(self.dataset[j][0]).to(torch.float32)/255)\n",
        "                batch_imgs_transformed = torch.cat((batch_imgs_transformed,a))\n",
        "                batch_labels.append(self.dataset[j][1])\n",
        "           \n",
        "              #------------------------------------------------------\n",
        "              \n",
        "\n",
        "           \n",
        "\n",
        "\n",
        "\n",
        "            ###################### (8 points) #########################\n",
        "            yield batch_imgs_transformed, torch.tensor(batch_labels)\n",
        "            batch_imgs = []\n",
        "            batch_imgs_transformed = torch.tensor([])\n",
        "            batch_labels = []\n",
        "        return\n"
      ]
    },
    {
      "cell_type": "code",
      "execution_count": null,
      "metadata": {
        "colab": {
          "base_uri": "https://localhost:8080/"
        },
        "id": "UZpVdJ60Dyw6",
        "outputId": "30b7cb54-ca19-4b7b-945b-7b361d02050a"
      },
      "outputs": [
        {
          "output_type": "stream",
          "name": "stdout",
          "text": [
            "number of images in every batch:2\n",
            "tensor([[[0., 0., 0.,  ..., 0., 0., 0.],\n",
            "         [0., 0., 0.,  ..., 0., 0., 0.],\n",
            "         [0., 0., 0.,  ..., 0., 0., 0.],\n",
            "         ...,\n",
            "         [0., 0., 0.,  ..., 0., 0., 0.],\n",
            "         [0., 0., 0.,  ..., 0., 0., 0.],\n",
            "         [0., 0., 0.,  ..., 0., 0., 0.]],\n",
            "\n",
            "        [[0., 0., 0.,  ..., 0., 0., 0.],\n",
            "         [0., 0., 0.,  ..., 0., 0., 0.],\n",
            "         [0., 0., 0.,  ..., 0., 0., 0.],\n",
            "         ...,\n",
            "         [0., 0., 0.,  ..., 0., 0., 0.],\n",
            "         [0., 0., 0.,  ..., 0., 0., 0.],\n",
            "         [0., 0., 0.,  ..., 0., 0., 0.]]])\n",
            "number of labels in every batch:2\n",
            "tensor([9, 0])\n",
            "number of images in every batch:2\n",
            "tensor([[[0., 0., 0.,  ..., 0., 0., 0.],\n",
            "         [0., 0., 0.,  ..., 0., 0., 0.],\n",
            "         [0., 0., 0.,  ..., 0., 0., 0.],\n",
            "         ...,\n",
            "         [0., 0., 0.,  ..., 0., 0., 0.],\n",
            "         [0., 0., 0.,  ..., 0., 0., 0.],\n",
            "         [0., 0., 0.,  ..., 0., 0., 0.]],\n",
            "\n",
            "        [[0., 0., 0.,  ..., 0., 0., 0.],\n",
            "         [0., 0., 0.,  ..., 0., 0., 0.],\n",
            "         [0., 0., 0.,  ..., 0., 0., 0.],\n",
            "         ...,\n",
            "         [0., 0., 0.,  ..., 0., 0., 0.],\n",
            "         [0., 0., 0.,  ..., 0., 0., 0.],\n",
            "         [0., 0., 0.,  ..., 0., 0., 0.]]])\n",
            "number of labels in every batch:2\n",
            "tensor([0, 3])\n"
          ]
        }
      ],
      "source": [
        "def test_dataloader():\n",
        "    ######################   TODO 1.3   ########################\n",
        "    # test your dataloader!\n",
        "    count = 0\n",
        "    dataloader = CustomDataloader(dataset = train_set,batch_size=2)\n",
        "    for data, labels in dataloader:\n",
        "        print('number of images in every batch:'+str(dataloader.batch_size))\n",
        "        print(data)\n",
        "        print('number of labels in every batch:'+str(dataloader.batch_size))\n",
        "        print(labels)\n",
        "        count = count + 1 \n",
        "        if count ==2: \n",
        "            break\n",
        "        \n",
        "        \n",
        "       \n",
        "        \n",
        "    ###################### (5 points) #########################\n",
        "\n",
        "test_dataloader()"
      ]
    },
    {
      "cell_type": "code",
      "execution_count": null,
      "metadata": {
        "id": "n6zdEf0qGpRU"
      },
      "outputs": [],
      "source": [
        "######################   TODO 1.4   #########################\n",
        "# initialaze the dataloaders, for training_set and test_set\n",
        "train_dataloader = CustomDataloader(dataset = train_set,batch_size=16)\n",
        "test_dataloader = CustomDataloader(dataset = test_set,batch_size=16)\n",
        "###################### (1 points) #########################"
      ]
    },
    {
      "cell_type": "markdown",
      "metadata": {
        "id": "VW3enbCtHqo8"
      },
      "source": [
        "# 2. Model\n",
        "Here, we will implement our network. Our model is a simple feed-forward network that gets an image, flattens the image, then passes it through several linear layers with relu activations."
      ]
    },
    {
      "cell_type": "code",
      "execution_count": null,
      "metadata": {
        "id": "4e3aAbFvHpCs"
      },
      "outputs": [],
      "source": [
        "from numpy.core.fromnumeric import argmax\n",
        "class Classifier(nn.Module):\n",
        "    def __init__(self, input_dims, hidden_dims, num_classes):\n",
        "        super().__init__()\n",
        "        self.nn_layers = nn.ModuleList()\n",
        "        self.activation = nn.ReLU()\n",
        "        self.flatten = torch.flatten\n",
        "        ######################   TODO 2.1   ########################\n",
        "        # construct layers of the network\n",
        "        # these layers are stored in `self.nn_layers`\n",
        "        # use `nn.Linear` for all layers\n",
        "        hidden_dims = hidden_dims\n",
        "        # hidden layer\n",
        "\n",
        "        \n",
        "        self.nn_layers.append(nn.Linear(input_dims[0]*input_dims[1],hidden_dims[0]))\n",
        "        self.nn_layers.append(self.activation)\n",
        "        for i in range(len(hidden_dims)):\n",
        "          if i==len(hidden_dims) - 1 :\n",
        "            self.nn_layers.append(nn.Linear(hidden_dims[i],num_classes))\n",
        "          else:\n",
        "              \n",
        "            self.nn_layers.append(nn.Linear(hidden_dims[i],hidden_dims[i+1]))\n",
        "            self.nn_layers.append(self.activation)\n",
        "         \n",
        "\n",
        "        # use `self.nn_layers.append`\n",
        "        ###################### (10 points) #########################\n",
        "        self.softmax = nn.Softmax(dim=1)\n",
        "\n",
        "    def forward(self, x):\n",
        "      \n",
        "       \n",
        "\n",
        "        x = self.flatten(x, start_dim=1)\n",
        "        for i in range(len(self.nn_layers)):\n",
        "          x = self.nn_layers[i](x)\n",
        "\n",
        "        ######################   TODO 2.2   ########################\n",
        "        # pass `x` through all the layers of the network.\n",
        "        # also don't forget the activation functions!\n",
        "        # don't use `softmax` in the last layer.\n",
        "        ###################### (5 points) #########################\n",
        "        return x\n",
        "\n",
        "    def predict(self, x):\n",
        "        ######################   TODO 2.3   ########################\n",
        "        # get the predicted class of x.\n",
        "        # use softmax and then get the maximum indexes\n",
        "        x = self.forward(x)\n",
        "        prediction = self.softmax(x)\n",
        "        temp = []\n",
        "        \n",
        "        \n",
        "        for i in range(len(prediction)):\n",
        "            a = torch.argmax(prediction[i])\n",
        "            \n",
        "            \n",
        "            temp.append(a)\n",
        "        prediction = np.array(temp)\n",
        "\n",
        "        ###################### (5 points) #########################\n",
        "        return prediction\n"
      ]
    },
    {
      "cell_type": "code",
      "execution_count": null,
      "metadata": {
        "id": "Np2HUdUJBlXD"
      },
      "outputs": [],
      "source": [
        "def test_model():\n",
        "    input_dims = (28, 28)\n",
        "    hidden_dims = [10, 100, 20]\n",
        "    num_classes = 10\n",
        "    batch_size = 8\n",
        "    \n",
        "    cls = Classifier(input_dims, hidden_dims, num_classes)\n",
        "    x = torch.rand(batch_size, *input_dims)\n",
        "    assert cls(x).shape == torch.Size([batch_size, num_classes])\n",
        "    assert cls.predict(x).shape == torch.Size([batch_size])\n",
        "\n",
        "\n",
        "def test_model_with_dataloader():\n",
        "    input_dims = (28, 28)\n",
        "    hidden_dims = [10, 100, 20]\n",
        "    num_classes = 10\n",
        "    batch_size = 2\n",
        "    dataloader = CustomDataloader(dataset=test_set, batch_size=batch_size, shuffle=True)\n",
        "    imgs, labels = next(iter(dataloader))\n",
        "    cls = Classifier(input_dims, hidden_dims, num_classes)\n",
        "    assert cls(imgs).shape == torch.Size([batch_size, num_classes])\n",
        "    assert cls.predict(imgs).shape == torch.Size([batch_size])\n",
        "\n",
        "test_model()\n",
        "test_model_with_dataloader()"
      ]
    },
    {
      "cell_type": "markdown",
      "metadata": {
        "id": "xZ0LuAhmKjRx"
      },
      "source": [
        "# 3. Training"
      ]
    },
    {
      "cell_type": "markdown",
      "metadata": {
        "id": "-ucWf5aPJUOq"
      },
      "source": [
        "## Trainer\n",
        "Trainer is an object that gets the model, dataloaders, optimizer and criterion and then trains the model with the given data in a training loop. "
      ]
    },
    {
      "cell_type": "code",
      "execution_count": 43,
      "metadata": {
        "id": "SYaKcRsuFD-k"
      },
      "outputs": [],
      "source": [
        "import matplotlib.pyplot as plt\n",
        "\n",
        "class Trainer:\n",
        "    def __init__(self, \n",
        "        train_dataloader, val_dataloader, model,\n",
        "        optimizer, criterion, *args, **kwargs\n",
        "    ):\n",
        "        self.train_dataloader = train_dataloader\n",
        "        self.val_dataloader = val_dataloader\n",
        "        self.model = model\n",
        "        self.best_model = model\n",
        "        self.optimizer = optimizer\n",
        "        self.criterion = criterion\n",
        "        self.train_losses = []\n",
        "        self.val_losses = []\n",
        "        self.val_loss = None\n",
        "        self.min_val_loss = np.inf\n",
        "        self.x1 = None \n",
        "        self.y1 = None\n",
        "\n",
        "    def train(self, epochs, log_each_n_percent_epoch):\n",
        "        train_steps = len(self.train_dataloader)\n",
        "        log_steps = int(train_steps * log_each_n_percent_epoch/100)\n",
        "\n",
        "        for epoch in range(epochs):\n",
        "            print(f\"epoch {epoch+1} started\".title().center(50, \"=\"))\n",
        "            train_loss = 0.0\n",
        "            for step, (data, labels) in tqdm(enumerate(self.train_dataloader)):\n",
        "                ######################   TODO 3.1   ########################\n",
        "                # first move the data and labels to gpu if you are using it\n",
        "                # forward the data, calculate loss and then backpropagate it\n",
        "                ###################### (10 points) #########################\n",
        "                self.optimizer.zero_grad()\n",
        "                outputs = model(data)\n",
        "                train_loss = self.criterion(outputs,labels)\n",
        "                self.train_losses.append(train_loss)\n",
        "                train_loss.backward()\n",
        "                self.optimizer.step()\n",
        "\n",
        "                if step % log_steps == 1:\n",
        "                    self.val_loss, accuracy = self.evaluate(save=True)\n",
        "                    info_text = f'Validation Loss: {self.val_loss:.6f}\\t Accuracy-score: {accuracy:.2f}'\n",
        "                    print(info_text)\n",
        "                    self.post_evaluation_actions()\n",
        "                    \n",
        "    def evaluate(self, save=False):\n",
        "        with torch.no_grad():\n",
        "            ######################   TODO 3.2   ########################\n",
        "            # run the prediction on the validation dataloader,\n",
        "            # calculate loss and accuracy\n",
        "            y_true, y_pred = torch.tensor([]), torch.tensor([])\n",
        "            \n",
        "            \n",
        "            for x , y in self.val_dataloader:\n",
        "              y_true = torch.cat((y_true,y))\n",
        "              y_pred = torch.cat((y_pred,torch.tensor(self.model.predict(x))))\n",
        "              a = self.model(x)\n",
        "              val_loss = self.criterion(a,y)\n",
        "              self.val_losses.append(val_loss)\n",
        "              self.x1.append(y)\n",
        "              self.y1.append(self.model.predict(x))\n",
        "\n",
        "              \n",
        "           \n",
        "            \n",
        "            accuracy = accuracy_score(y_true,y_pred)\n",
        "            ###################### (5 points) #########################\n",
        "            \n",
        "            return val_loss, accuracy\n",
        "\n",
        "    def post_evaluation_actions(self):\n",
        "        pass\n",
        "    def my_plot(self):\n",
        "      import numpy as np\n",
        "      a=np.array(self.val_losses)\n",
        "      a = result = a.flatten()\n",
        "      plt.plot(25,a)\n",
        "    def conf(self):\n",
        "        import matplotlib.pyplot as plt\n",
        "\n",
        "        import numpy\n",
        "        from sklearn import metrics\n",
        "\n",
        "        actual = numpy.random.binomial(1,.9,size = 1000)\n",
        "        predicted = numpy.random.binomial(1,.9,size = 1000)\n",
        "\n",
        "        confusion_matrix = metrics.confusion_matrix(self.x1, self.y1)\n",
        "\n",
        "        cm_display = metrics.ConfusionMatrixDisplay(confusion_matrix = confusion_matrix, display_labels = [False, True])\n",
        "\n",
        "        cm_display.plot()\n",
        "        plt.show()"
      ]
    },
    {
      "cell_type": "markdown",
      "metadata": {
        "id": "3C1BjqU2JXAQ"
      },
      "source": [
        "## Train"
      ]
    },
    {
      "cell_type": "code",
      "execution_count": null,
      "metadata": {
        "colab": {
          "base_uri": "https://localhost:8080/"
        },
        "id": "N0pfM1SMJYLK",
        "outputId": "51ac4ce0-dd4d-4b62-84eb-7ad9f0849cdf"
      },
      "outputs": [
        {
          "output_type": "stream",
          "name": "stdout",
          "text": [
            "Using device: cpu\n",
            "\n",
            "Classifier(\n",
            "  (nn_layers): ModuleList(\n",
            "    (0): Linear(in_features=784, out_features=200, bias=True)\n",
            "    (1): ReLU()\n",
            "    (2): Linear(in_features=200, out_features=150, bias=True)\n",
            "    (3): ReLU()\n",
            "    (4): Linear(in_features=150, out_features=100, bias=True)\n",
            "    (5): ReLU()\n",
            "    (6): Linear(in_features=100, out_features=50, bias=True)\n",
            "    (7): ReLU()\n",
            "    (8): Linear(in_features=50, out_features=10, bias=True)\n",
            "  )\n",
            "  (activation): ReLU()\n",
            "  (softmax): Softmax(dim=1)\n",
            ")\n"
          ]
        }
      ],
      "source": [
        "######################   TODO 3.3   #########################\n",
        "# complete empty variables \n",
        "# init your model, then put it on GPU if available,\n",
        "# use `SGD` as your optimizer,\n",
        "# set the appropriate `learning_rate`\n",
        "# use `nn.CrossEntropyLoss()` as criterion.\n",
        "input_dims = (28,28)\n",
        "hidden_dims = [200,150,100,50]\n",
        "num_classes = 10\n",
        "\n",
        "model = Classifier(input_dims,hidden_dims,num_classes)\n",
        "device = torch.device('cuda' if torch.cuda.is_available() else 'cpu')\n",
        "print('Using device:', device)\n",
        "print()\n",
        "#model.to(device)\n",
        "print(model)\n",
        "learning_rate = 0.01\n",
        "optimizer = torch.optim.SGD(model.parameters(), lr=learning_rate , momentum=0.9)\n",
        "criterion = nn.CrossEntropyLoss()\n",
        "###################### (5 points) #########################"
      ]
    },
    {
      "cell_type": "code",
      "execution_count": null,
      "metadata": {
        "id": "W7Mlmax9NCyP",
        "colab": {
          "base_uri": "https://localhost:8080/",
          "height": 217,
          "referenced_widgets": [
            "8996b530c5ea40b2bdb1565a968ee694",
            "46dab49c8aea483f880016449f38fa0d",
            "4314678e4aed45f983a3c349a74f357d",
            "fb83b8b427074995ae21baa5f66f2a86",
            "960efa0b35a3401286b8e9bd52a25008",
            "dd7ed2ebf95347a5a2ae1c194d2f431a",
            "6ef7bea2619247548a750a14a0db2c92",
            "3906d0a5970644cf97d654c7d2f9ba54",
            "bef401bb87764e9684c35cfcf24c6975",
            "304f8b7b247141989c78ef574897dc8b",
            "ab9274bb43f54f88b107be32e8b5e23d",
            "3353bcd807c449b7ae58eb6ca597724c",
            "a7e8dc4bd28748dda5caeeca5b82636d",
            "0278f31c9c6c48569e950f4cca490706",
            "39f4049ccf1b47c88d81bc324eb8e493",
            "5259f0c17ad74f3c9abd6d45102540c1",
            "8d3ace55be264c6c87571ad0bfc6d2e0",
            "8406b944e483495987436f346cd81ea4",
            "6070c4e197cb4fe0a77acc668e0bbe55",
            "58ca80813fa74245957993d5c337cbc4",
            "cc15cdb669fa4bee82882c9a9ac9ff48",
            "ee994dd288c1467eb6b8b90b759e1982",
            "b706cf4bd6364ed193a0f43efe571d17",
            "1f5df45eec2c4485864700042705cde6",
            "98fc268dad104fa8b7c71e61aca331a6",
            "e568cf96f6024d23bd2b5e9911c58201",
            "6def117522ad437082a20bd96d40c475",
            "9d05025c16b94bf0a658e89d2fc751f4",
            "20406b61bf774be793343056932ef6b8",
            "a1d86385b20e41229cc29445da5d7ee3",
            "e9f35ee0a27545509b93ae064812d2ee",
            "956f84a56b824ec3ac5b940396da4261",
            "75054d0dafb74b2aa04a407b08983899"
          ]
        },
        "outputId": "395971f0-3605-464d-9e67-2dba21e5aec2"
      },
      "outputs": [
        {
          "output_type": "stream",
          "name": "stdout",
          "text": [
            "=================Epoch 1 Started==================\n"
          ]
        },
        {
          "output_type": "display_data",
          "data": {
            "text/plain": [
              "0it [00:00, ?it/s]"
            ],
            "application/vnd.jupyter.widget-view+json": {
              "version_major": 2,
              "version_minor": 0,
              "model_id": "8996b530c5ea40b2bdb1565a968ee694"
            }
          },
          "metadata": {}
        },
        {
          "output_type": "stream",
          "name": "stdout",
          "text": [
            "Validation Loss: 0.105001\t Accuracy-score: 0.88\n",
            "=================Epoch 2 Started==================\n"
          ]
        },
        {
          "output_type": "display_data",
          "data": {
            "text/plain": [
              "0it [00:00, ?it/s]"
            ],
            "application/vnd.jupyter.widget-view+json": {
              "version_major": 2,
              "version_minor": 0,
              "model_id": "3353bcd807c449b7ae58eb6ca597724c"
            }
          },
          "metadata": {}
        },
        {
          "output_type": "stream",
          "name": "stdout",
          "text": [
            "Validation Loss: 0.015395\t Accuracy-score: 0.88\n",
            "=================Epoch 3 Started==================\n"
          ]
        },
        {
          "output_type": "display_data",
          "data": {
            "text/plain": [
              "0it [00:00, ?it/s]"
            ],
            "application/vnd.jupyter.widget-view+json": {
              "version_major": 2,
              "version_minor": 0,
              "model_id": "b706cf4bd6364ed193a0f43efe571d17"
            }
          },
          "metadata": {}
        },
        {
          "output_type": "stream",
          "name": "stdout",
          "text": [
            "Validation Loss: 0.098825\t Accuracy-score: 0.88\n"
          ]
        }
      ],
      "source": [
        "######################   TODO 3.4   #######################\n",
        "# init trainer and then train it as much as you want.\n",
        "# accuracy scores less than 86% won't recieve any points.\n",
        "trainer1 = Trainer(train_dataloader,test_dataloader,model=model,optimizer=optimizer,criterion=criterion)\n",
        "trainer1.train(3,100)\n",
        "###################### (5 points) #########################"
      ]
    },
    {
      "cell_type": "code",
      "execution_count": null,
      "metadata": {
        "id": "fklJQmXikp9E"
      },
      "outputs": [],
      "source": [
        "######################   TODO 3.5   #######################\n",
        "# repeat the training with another optimizer.\n",
        "model = Classifier(input_dims,hidden_dims,num_classes)\n",
        "optimizer = torch.optim.Adadelta(model.parameters(), lr=learning_rate )\n",
        "trainer2 = Trainer(train_dataloader,test_dataloader,model=model,optimizer=optimizer,criterion=criterion)\n",
        "trainer2.train(25,25)\n",
        "##################### (5 points) #########################"
      ]
    },
    {
      "cell_type": "markdown",
      "metadata": {
        "id": "Q1G4air84zVB"
      },
      "source": [
        "## Trainer with Early Stopping\n",
        "First, feel free to study about Early Stopping technique on the internet. Then come along to the next cell."
      ]
    },
    {
      "cell_type": "code",
      "execution_count": null,
      "metadata": {
        "id": "42_CGV3V4zVB"
      },
      "outputs": [],
      "source": [
        "class EarlyStppedException(Exception):\n",
        "    def __init__(self,message):\n",
        "        super().__init__(message)\n",
        "        self.message = message\n",
        "\n",
        "    \n",
        "\n",
        "\n",
        "class TrainerWithEarlyStopping(Trainer):\n",
        "    def  __init__(self,*args, **kwargs):\n",
        "        super(TrainerWithEarlyStopping,self).__init__(*args,**kwargs)\n",
        "        ######################   TODO 3.6   #######################\n",
        "        # Here, save any arguments you need from kwargs into `self`\n",
        "        self.p = 10\n",
        "        self.p_evalute = []\n",
        "        self.is_stop = False\n",
        "        \n",
        "        \n",
        "       \n",
        "    \n",
        "        ###################### (3 points) #########################\n",
        "\n",
        "\n",
        "    def post_evaluation_actions(self):\n",
        "        \n",
        "        ######################   TODO 3.6   #######################\n",
        "        # In this method, you should first save the best model each\n",
        "        \n",
        "        if self.val_loss<self.min_val_loss:\n",
        "            print(f'Validation loss decreased ({self.min_val_loss:.6f} --> {self.val_loss:.6f}).  Saving model ...')\n",
        "            self.best_model = deepcopy(self.model)\n",
        "            torch.save(self.best_model.state_dict(), 'my_model.pt')\n",
        "            self.min_val_loss = self.val_loss\n",
        "        else : \n",
        "            print('Validation loss did not improved from {}'.format(self.min_val_loss))\n",
        "        # time the loss decreases. Don't forget to use `deepcopy`!\n",
        "#         if len(self.val_losses)>=(self.p)+1:\n",
        "            \n",
        "#             self.p_evalute=self.val_losses[-(self.p):]\n",
        "#             for value in self.p_evalute:\n",
        "#                 if value >= self.min_val_loss :\n",
        "#                     self.is_stop = True\n",
        "                    \n",
        "#                 else:\n",
        "#                     self.is_stop = False\n",
        "                    \n",
        "#                     break\n",
        "            \n",
        "             \n",
        "\n",
        "\n",
        "        \n",
        "\n",
        "        # Then use your defined arguments to check for early stopp-\n",
        "        # ing. In case of eary stopping raise `EarlyStppedException`\n",
        "        # exception.\n",
        "        if self.is_stop:\n",
        "            \n",
        "            raise EarlyStppedException('Your Model Does Not Improved , Early Stoping...')\n",
        "            \n",
        "\n",
        "       \n",
        "\n",
        "         \n",
        "\n",
        "        ###################### (7 points) #########################"
      ]
    },
    {
      "cell_type": "code",
      "execution_count": null,
      "metadata": {
        "colab": {
          "base_uri": "https://localhost:8080/",
          "height": 358,
          "referenced_widgets": [
            "9f0d2d6915cf4e94864e27a3a924a7c4",
            "d4d70cce0ef74198b7488fbb84f67088",
            "f4dc3cdb7636401cb06292f259614371",
            "a321c420073744948d016b75609b443e",
            "2a67174d92b0459aaa64723287ad7842",
            "2feccedd6d7e4659b2f5dd3f55c312db",
            "c3745e343d2b482598a076c10fa616fc",
            "01b7f89b879b49b1bee751dfc8b2403d",
            "52199fcc7d654f3a91376a4772624002",
            "c5703e73745243c5ad4eb60f9d9995b8",
            "779905914e50406e8b578e6b07a8df27",
            "a604ece0143f468fbd48082da686d101",
            "9c85d348336748ed973afee2aad470ac",
            "eb2fe300eb1a49e9819c50635604a2db",
            "5f8e18854a8c43619bc0303250ecae2b",
            "0decd141dbc544e3af36401945df361c",
            "0bddd7cfed5642b1a0a5845388bc77f3",
            "a503aa8466694c01b80c6318d717796d",
            "770824d856704793b66bb2d0de7b1310",
            "6088de8364f04bf68a98eda916b54093",
            "ef9727d12de04d06b89a74e25feb4a34",
            "2e8035e19f8c4db59a42613658803247"
          ]
        },
        "id": "7mYF1cj04zVB",
        "outputId": "ea1bb935-0d78-4265-a9ec-bedb14936397"
      },
      "outputs": [
        {
          "name": "stdout",
          "output_type": "stream",
          "text": [
            "=================Epoch 1 Started==================\n"
          ]
        },
        {
          "data": {
            "application/vnd.jupyter.widget-view+json": {
              "model_id": "9f0d2d6915cf4e94864e27a3a924a7c4",
              "version_major": 2,
              "version_minor": 0
            },
            "text/plain": [
              "0it [00:00, ?it/s]"
            ]
          },
          "metadata": {},
          "output_type": "display_data"
        },
        {
          "name": "stdout",
          "output_type": "stream",
          "text": [
            "Validation Loss: 2.313054\t Accuracy-score: 0.10\n",
            "Validation loss decreased (inf --> 2.313054).  Saving model ...\n",
            "=================Epoch 2 Started==================\n"
          ]
        },
        {
          "data": {
            "application/vnd.jupyter.widget-view+json": {
              "model_id": "d4d70cce0ef74198b7488fbb84f67088",
              "version_major": 2,
              "version_minor": 0
            },
            "text/plain": [
              "0it [00:00, ?it/s]"
            ]
          },
          "metadata": {},
          "output_type": "display_data"
        },
        {
          "name": "stdout",
          "output_type": "stream",
          "text": [
            "Validation Loss: 0.178045\t Accuracy-score: 0.81\n",
            "Validation loss decreased (2.313054 --> 0.178045).  Saving model ...\n",
            "=================Epoch 3 Started==================\n"
          ]
        },
        {
          "data": {
            "application/vnd.jupyter.widget-view+json": {
              "model_id": "f4dc3cdb7636401cb06292f259614371",
              "version_major": 2,
              "version_minor": 0
            },
            "text/plain": [
              "0it [00:00, ?it/s]"
            ]
          },
          "metadata": {},
          "output_type": "display_data"
        },
        {
          "name": "stdout",
          "output_type": "stream",
          "text": [
            "Validation Loss: 0.196371\t Accuracy-score: 0.85\n",
            "Validation loss did not improved from 0.17804504930973053\n",
            "=================Epoch 4 Started==================\n"
          ]
        },
        {
          "data": {
            "application/vnd.jupyter.widget-view+json": {
              "model_id": "a321c420073744948d016b75609b443e",
              "version_major": 2,
              "version_minor": 0
            },
            "text/plain": [
              "0it [00:00, ?it/s]"
            ]
          },
          "metadata": {},
          "output_type": "display_data"
        },
        {
          "name": "stdout",
          "output_type": "stream",
          "text": [
            "Validation Loss: 0.222601\t Accuracy-score: 0.85\n",
            "Validation loss did not improved from 0.17804504930973053\n",
            "=================Epoch 5 Started==================\n"
          ]
        },
        {
          "data": {
            "application/vnd.jupyter.widget-view+json": {
              "model_id": "2a67174d92b0459aaa64723287ad7842",
              "version_major": 2,
              "version_minor": 0
            },
            "text/plain": [
              "0it [00:00, ?it/s]"
            ]
          },
          "metadata": {},
          "output_type": "display_data"
        },
        {
          "name": "stdout",
          "output_type": "stream",
          "text": [
            "Validation Loss: 0.190166\t Accuracy-score: 0.86\n",
            "Validation loss did not improved from 0.17804504930973053\n",
            "=================Epoch 6 Started==================\n"
          ]
        },
        {
          "data": {
            "application/vnd.jupyter.widget-view+json": {
              "model_id": "2feccedd6d7e4659b2f5dd3f55c312db",
              "version_major": 2,
              "version_minor": 0
            },
            "text/plain": [
              "0it [00:00, ?it/s]"
            ]
          },
          "metadata": {},
          "output_type": "display_data"
        },
        {
          "name": "stdout",
          "output_type": "stream",
          "text": [
            "Validation Loss: 0.192307\t Accuracy-score: 0.85\n",
            "Validation loss did not improved from 0.17804504930973053\n",
            "=================Epoch 7 Started==================\n"
          ]
        },
        {
          "data": {
            "application/vnd.jupyter.widget-view+json": {
              "model_id": "c3745e343d2b482598a076c10fa616fc",
              "version_major": 2,
              "version_minor": 0
            },
            "text/plain": [
              "0it [00:00, ?it/s]"
            ]
          },
          "metadata": {},
          "output_type": "display_data"
        },
        {
          "name": "stdout",
          "output_type": "stream",
          "text": [
            "Validation Loss: 0.167852\t Accuracy-score: 0.86\n",
            "Validation loss decreased (0.178045 --> 0.167852).  Saving model ...\n",
            "=================Epoch 8 Started==================\n"
          ]
        },
        {
          "data": {
            "application/vnd.jupyter.widget-view+json": {
              "model_id": "01b7f89b879b49b1bee751dfc8b2403d",
              "version_major": 2,
              "version_minor": 0
            },
            "text/plain": [
              "0it [00:00, ?it/s]"
            ]
          },
          "metadata": {},
          "output_type": "display_data"
        },
        {
          "name": "stdout",
          "output_type": "stream",
          "text": [
            "Validation Loss: 0.156522\t Accuracy-score: 0.87\n",
            "Validation loss decreased (0.167852 --> 0.156522).  Saving model ...\n",
            "=================Epoch 9 Started==================\n"
          ]
        },
        {
          "data": {
            "application/vnd.jupyter.widget-view+json": {
              "model_id": "52199fcc7d654f3a91376a4772624002",
              "version_major": 2,
              "version_minor": 0
            },
            "text/plain": [
              "0it [00:00, ?it/s]"
            ]
          },
          "metadata": {},
          "output_type": "display_data"
        },
        {
          "name": "stdout",
          "output_type": "stream",
          "text": [
            "Validation Loss: 0.177937\t Accuracy-score: 0.87\n",
            "Validation loss did not improved from 0.15652170777320862\n",
            "=================Epoch 10 Started=================\n"
          ]
        },
        {
          "data": {
            "application/vnd.jupyter.widget-view+json": {
              "model_id": "c5703e73745243c5ad4eb60f9d9995b8",
              "version_major": 2,
              "version_minor": 0
            },
            "text/plain": [
              "0it [00:00, ?it/s]"
            ]
          },
          "metadata": {},
          "output_type": "display_data"
        },
        {
          "name": "stdout",
          "output_type": "stream",
          "text": [
            "Validation Loss: 0.127468\t Accuracy-score: 0.87\n",
            "Validation loss decreased (0.156522 --> 0.127468).  Saving model ...\n",
            "=================Epoch 11 Started=================\n"
          ]
        },
        {
          "data": {
            "application/vnd.jupyter.widget-view+json": {
              "model_id": "779905914e50406e8b578e6b07a8df27",
              "version_major": 2,
              "version_minor": 0
            },
            "text/plain": [
              "0it [00:00, ?it/s]"
            ]
          },
          "metadata": {},
          "output_type": "display_data"
        },
        {
          "name": "stdout",
          "output_type": "stream",
          "text": [
            "Validation Loss: 0.136345\t Accuracy-score: 0.87\n",
            "Validation loss did not improved from 0.127467542886734\n",
            "=================Epoch 12 Started=================\n"
          ]
        },
        {
          "data": {
            "application/vnd.jupyter.widget-view+json": {
              "model_id": "a604ece0143f468fbd48082da686d101",
              "version_major": 2,
              "version_minor": 0
            },
            "text/plain": [
              "0it [00:00, ?it/s]"
            ]
          },
          "metadata": {},
          "output_type": "display_data"
        },
        {
          "name": "stdout",
          "output_type": "stream",
          "text": [
            "Validation Loss: 0.142763\t Accuracy-score: 0.87\n",
            "Validation loss did not improved from 0.127467542886734\n",
            "=================Epoch 13 Started=================\n"
          ]
        },
        {
          "data": {
            "application/vnd.jupyter.widget-view+json": {
              "model_id": "9c85d348336748ed973afee2aad470ac",
              "version_major": 2,
              "version_minor": 0
            },
            "text/plain": [
              "0it [00:00, ?it/s]"
            ]
          },
          "metadata": {},
          "output_type": "display_data"
        },
        {
          "name": "stdout",
          "output_type": "stream",
          "text": [
            "Validation Loss: 0.117165\t Accuracy-score: 0.88\n",
            "Validation loss decreased (0.127468 --> 0.117165).  Saving model ...\n",
            "=================Epoch 14 Started=================\n"
          ]
        },
        {
          "data": {
            "application/vnd.jupyter.widget-view+json": {
              "model_id": "eb2fe300eb1a49e9819c50635604a2db",
              "version_major": 2,
              "version_minor": 0
            },
            "text/plain": [
              "0it [00:00, ?it/s]"
            ]
          },
          "metadata": {},
          "output_type": "display_data"
        },
        {
          "name": "stdout",
          "output_type": "stream",
          "text": [
            "Validation Loss: 0.106619\t Accuracy-score: 0.87\n",
            "Validation loss decreased (0.117165 --> 0.106619).  Saving model ...\n",
            "=================Epoch 15 Started=================\n"
          ]
        },
        {
          "data": {
            "application/vnd.jupyter.widget-view+json": {
              "model_id": "5f8e18854a8c43619bc0303250ecae2b",
              "version_major": 2,
              "version_minor": 0
            },
            "text/plain": [
              "0it [00:00, ?it/s]"
            ]
          },
          "metadata": {},
          "output_type": "display_data"
        },
        {
          "name": "stdout",
          "output_type": "stream",
          "text": [
            "Validation Loss: 0.073325\t Accuracy-score: 0.87\n",
            "Validation loss decreased (0.106619 --> 0.073325).  Saving model ...\n",
            "=================Epoch 16 Started=================\n"
          ]
        },
        {
          "data": {
            "application/vnd.jupyter.widget-view+json": {
              "model_id": "0decd141dbc544e3af36401945df361c",
              "version_major": 2,
              "version_minor": 0
            },
            "text/plain": [
              "0it [00:00, ?it/s]"
            ]
          },
          "metadata": {},
          "output_type": "display_data"
        },
        {
          "name": "stdout",
          "output_type": "stream",
          "text": [
            "Validation Loss: 0.046034\t Accuracy-score: 0.88\n",
            "Validation loss decreased (0.073325 --> 0.046034).  Saving model ...\n",
            "=================Epoch 17 Started=================\n"
          ]
        },
        {
          "data": {
            "application/vnd.jupyter.widget-view+json": {
              "model_id": "0bddd7cfed5642b1a0a5845388bc77f3",
              "version_major": 2,
              "version_minor": 0
            },
            "text/plain": [
              "0it [00:00, ?it/s]"
            ]
          },
          "metadata": {},
          "output_type": "display_data"
        },
        {
          "name": "stdout",
          "output_type": "stream",
          "text": [
            "Validation Loss: 0.086623\t Accuracy-score: 0.88\n",
            "Validation loss did not improved from 0.0460338294506073\n",
            "=================Epoch 18 Started=================\n"
          ]
        },
        {
          "data": {
            "application/vnd.jupyter.widget-view+json": {
              "model_id": "a503aa8466694c01b80c6318d717796d",
              "version_major": 2,
              "version_minor": 0
            },
            "text/plain": [
              "0it [00:00, ?it/s]"
            ]
          },
          "metadata": {},
          "output_type": "display_data"
        },
        {
          "name": "stdout",
          "output_type": "stream",
          "text": [
            "Validation Loss: 0.065756\t Accuracy-score: 0.88\n",
            "Validation loss did not improved from 0.0460338294506073\n",
            "=================Epoch 19 Started=================\n"
          ]
        },
        {
          "data": {
            "application/vnd.jupyter.widget-view+json": {
              "model_id": "770824d856704793b66bb2d0de7b1310",
              "version_major": 2,
              "version_minor": 0
            },
            "text/plain": [
              "0it [00:00, ?it/s]"
            ]
          },
          "metadata": {},
          "output_type": "display_data"
        },
        {
          "name": "stdout",
          "output_type": "stream",
          "text": [
            "Validation Loss: 0.063584\t Accuracy-score: 0.88\n",
            "Validation loss did not improved from 0.0460338294506073\n",
            "=================Epoch 20 Started=================\n"
          ]
        },
        {
          "data": {
            "application/vnd.jupyter.widget-view+json": {
              "model_id": "6088de8364f04bf68a98eda916b54093",
              "version_major": 2,
              "version_minor": 0
            },
            "text/plain": [
              "0it [00:00, ?it/s]"
            ]
          },
          "metadata": {},
          "output_type": "display_data"
        },
        {
          "name": "stdout",
          "output_type": "stream",
          "text": [
            "Validation Loss: 0.088698\t Accuracy-score: 0.88\n",
            "Validation loss did not improved from 0.0460338294506073\n",
            "=================Epoch 21 Started=================\n"
          ]
        },
        {
          "data": {
            "application/vnd.jupyter.widget-view+json": {
              "model_id": "ef9727d12de04d06b89a74e25feb4a34",
              "version_major": 2,
              "version_minor": 0
            },
            "text/plain": [
              "0it [00:00, ?it/s]"
            ]
          },
          "metadata": {},
          "output_type": "display_data"
        },
        {
          "name": "stdout",
          "output_type": "stream",
          "text": [
            "Validation Loss: 0.072901\t Accuracy-score: 0.88\n",
            "Validation loss did not improved from 0.0460338294506073\n",
            "=================Epoch 22 Started=================\n"
          ]
        },
        {
          "data": {
            "application/vnd.jupyter.widget-view+json": {
              "model_id": "2e8035e19f8c4db59a42613658803247",
              "version_major": 2,
              "version_minor": 0
            },
            "text/plain": [
              "0it [00:00, ?it/s]"
            ]
          },
          "metadata": {},
          "output_type": "display_data"
        },
        {
          "name": "stdout",
          "output_type": "stream",
          "text": [
            "Validation Loss: 0.095169\t Accuracy-score: 0.88\n",
            "Validation loss did not improved from 0.0460338294506073\n"
          ]
        }
      ],
      "source": [
        "######################   TODO 3.6   #######################\n",
        "# Train a new model using our new trainer.\n",
        "# to claim the earlystopping point you should also do this\n",
        "# section.\n",
        "model = Classifier(input_dims,hidden_dims,num_classes)\n",
        "learning_rate = 0.01\n",
        "optimizer = torch.optim.SGD(model.parameters(), lr=learning_rate , momentum=0.9)\n",
        "criterion = nn.CrossEntropyLoss()\n",
        "TrainerWithEarlyStopping = TrainerWithEarlyStopping(train_dataloader,test_dataloader,model=model,optimizer=optimizer,criterion=criterion)\n",
        "TrainerWithEarlyStopping.train(25,100)\n",
        "###################### ( 0 points) #########################"
      ]
    },
    {
      "cell_type": "markdown",
      "metadata": {
        "id": "dZBl6G2VKpQj"
      },
      "source": [
        "# 4. Plots"
      ]
    },
    {
      "cell_type": "markdown",
      "metadata": {
        "id": "Vv7CyOnvY7vJ"
      },
      "source": [
        "**4.1. plot the learning curves for both optimizers.(5 points)**"
      ]
    },
    {
      "cell_type": "code",
      "source": [
        "trainer1.my_plot()"
      ],
      "metadata": {
        "id": "akbS_tPXYq8A"
      },
      "execution_count": null,
      "outputs": []
    },
    {
      "cell_type": "code",
      "source": [
        "trainer2.my_plot(25)"
      ],
      "metadata": {
        "id": "3ZQuY1aDdsCd"
      },
      "execution_count": null,
      "outputs": []
    },
    {
      "cell_type": "markdown",
      "metadata": {
        "id": "qET5FdGLY964"
      },
      "source": [
        "**4.2. plot the confusion matrix on the test set (5 points)**"
      ]
    },
    {
      "cell_type": "code",
      "source": [
        "trainer1.conf()"
      ],
      "metadata": {
        "id": "qlcA40-ldzEA"
      },
      "execution_count": null,
      "outputs": []
    },
    {
      "cell_type": "markdown",
      "metadata": {
        "id": "1Z2nH4b9KuJf"
      },
      "source": [
        "# 5. Conclusion"
      ]
    },
    {
      "cell_type": "markdown",
      "metadata": {
        "id": "lVZkY177iT2S"
      },
      "source": [
        "**5.1. what does `torch.no_grad()` do? (5 points)**"
      ]
    },
    {
      "cell_type": "markdown",
      "source": [
        "The use of \"with torch. no_grad()\" is like a loop where every tensor inside the loop will have requires_grad set to False. It means any tensor with gradient currently attached with the current computational graph is now detached from the current graph"
      ],
      "metadata": {
        "id": "0s5y89gTlo2U"
      }
    },
    {
      "cell_type": "markdown",
      "metadata": {
        "id": "rrHGVe5jioUh"
      },
      "source": [
        "**5.2. what is the diference between `CrossEntropyLoss` and `NLLLOSS`? Could we use `NLLLOSS` instead? How? (5 points)**"
      ]
    },
    {
      "cell_type": "markdown",
      "source": [
        "implementations of CrossEntropyLoss and NLLLoss are slightly different in the expected input values. In short, CrossEntropyLoss expects raw prediction values while NLLLoss expects log probabilities."
      ],
      "metadata": {
        "id": "g3aTlguzl0D9"
      }
    },
    {
      "cell_type": "markdown",
      "source": [
        "Using the nn.NNLLoss with F.log_softmax added as the last layer in the model"
      ],
      "metadata": {
        "id": "gagTq7YymaRI"
      }
    },
    {
      "cell_type": "markdown",
      "source": [
        "return nll_loss(log_softmax(input, 1), target, weight, None, ignore_index, None, reduction)\n"
      ],
      "metadata": {
        "id": "5PtM_M_vmfts"
      }
    }
  ],
  "metadata": {
    "colab": {
      "collapsed_sections": [],
      "provenance": []
    },
    "gpuClass": "standard",
    "kernelspec": {
      "display_name": "Python 3 (ipykernel)",
      "language": "python",
      "name": "python3"
    },
    "language_info": {
      "codemirror_mode": {
        "name": "ipython",
        "version": 3
      },
      "file_extension": ".py",
      "mimetype": "text/x-python",
      "name": "python",
      "nbconvert_exporter": "python",
      "pygments_lexer": "ipython3",
      "version": "3.10.4"
    },
    "vscode": {
      "interpreter": {
        "hash": "51c6dbf82b8cbd0f9162ecfa6af4da646dc3bedeb8566765e23e46a51041927a"
      }
    },
    "widgets": {
      "application/vnd.jupyter.widget-state+json": {
        "cd83ed61112e4a769d0211395b205354": {
          "model_module": "@jupyter-widgets/controls",
          "model_name": "HBoxModel",
          "model_module_version": "1.5.0",
          "state": {
            "_dom_classes": [],
            "_model_module": "@jupyter-widgets/controls",
            "_model_module_version": "1.5.0",
            "_model_name": "HBoxModel",
            "_view_count": null,
            "_view_module": "@jupyter-widgets/controls",
            "_view_module_version": "1.5.0",
            "_view_name": "HBoxView",
            "box_style": "",
            "children": [
              "IPY_MODEL_d28ed9b8cbad442584cd943cc40588e1",
              "IPY_MODEL_3ab796a4dc1241039062d229062b1144",
              "IPY_MODEL_0567ccaad10f4c9d9f7fae21051b4a6e"
            ],
            "layout": "IPY_MODEL_c1e04c1eae614a81987c315d06295584"
          }
        },
        "d28ed9b8cbad442584cd943cc40588e1": {
          "model_module": "@jupyter-widgets/controls",
          "model_name": "HTMLModel",
          "model_module_version": "1.5.0",
          "state": {
            "_dom_classes": [],
            "_model_module": "@jupyter-widgets/controls",
            "_model_module_version": "1.5.0",
            "_model_name": "HTMLModel",
            "_view_count": null,
            "_view_module": "@jupyter-widgets/controls",
            "_view_module_version": "1.5.0",
            "_view_name": "HTMLView",
            "description": "",
            "description_tooltip": null,
            "layout": "IPY_MODEL_069b77e7fef64053af6532f405b1240e",
            "placeholder": "​",
            "style": "IPY_MODEL_8bd8f4a3746b4a70bf57775d19bb9392",
            "value": "100%"
          }
        },
        "3ab796a4dc1241039062d229062b1144": {
          "model_module": "@jupyter-widgets/controls",
          "model_name": "FloatProgressModel",
          "model_module_version": "1.5.0",
          "state": {
            "_dom_classes": [],
            "_model_module": "@jupyter-widgets/controls",
            "_model_module_version": "1.5.0",
            "_model_name": "FloatProgressModel",
            "_view_count": null,
            "_view_module": "@jupyter-widgets/controls",
            "_view_module_version": "1.5.0",
            "_view_name": "ProgressView",
            "bar_style": "success",
            "description": "",
            "description_tooltip": null,
            "layout": "IPY_MODEL_665ad93487ad4e7aa7f70da69626e81a",
            "max": 26421880,
            "min": 0,
            "orientation": "horizontal",
            "style": "IPY_MODEL_52bcb35239754c7fabf4a1e609131de2",
            "value": 26421880
          }
        },
        "0567ccaad10f4c9d9f7fae21051b4a6e": {
          "model_module": "@jupyter-widgets/controls",
          "model_name": "HTMLModel",
          "model_module_version": "1.5.0",
          "state": {
            "_dom_classes": [],
            "_model_module": "@jupyter-widgets/controls",
            "_model_module_version": "1.5.0",
            "_model_name": "HTMLModel",
            "_view_count": null,
            "_view_module": "@jupyter-widgets/controls",
            "_view_module_version": "1.5.0",
            "_view_name": "HTMLView",
            "description": "",
            "description_tooltip": null,
            "layout": "IPY_MODEL_f8dca5b560e248b99c202627668af109",
            "placeholder": "​",
            "style": "IPY_MODEL_dbda4cfe979c4cf0a66d64f790a73e14",
            "value": " 26421880/26421880 [00:00&lt;00:00, 125508050.10it/s]"
          }
        },
        "c1e04c1eae614a81987c315d06295584": {
          "model_module": "@jupyter-widgets/base",
          "model_name": "LayoutModel",
          "model_module_version": "1.2.0",
          "state": {
            "_model_module": "@jupyter-widgets/base",
            "_model_module_version": "1.2.0",
            "_model_name": "LayoutModel",
            "_view_count": null,
            "_view_module": "@jupyter-widgets/base",
            "_view_module_version": "1.2.0",
            "_view_name": "LayoutView",
            "align_content": null,
            "align_items": null,
            "align_self": null,
            "border": null,
            "bottom": null,
            "display": null,
            "flex": null,
            "flex_flow": null,
            "grid_area": null,
            "grid_auto_columns": null,
            "grid_auto_flow": null,
            "grid_auto_rows": null,
            "grid_column": null,
            "grid_gap": null,
            "grid_row": null,
            "grid_template_areas": null,
            "grid_template_columns": null,
            "grid_template_rows": null,
            "height": null,
            "justify_content": null,
            "justify_items": null,
            "left": null,
            "margin": null,
            "max_height": null,
            "max_width": null,
            "min_height": null,
            "min_width": null,
            "object_fit": null,
            "object_position": null,
            "order": null,
            "overflow": null,
            "overflow_x": null,
            "overflow_y": null,
            "padding": null,
            "right": null,
            "top": null,
            "visibility": null,
            "width": null
          }
        },
        "069b77e7fef64053af6532f405b1240e": {
          "model_module": "@jupyter-widgets/base",
          "model_name": "LayoutModel",
          "model_module_version": "1.2.0",
          "state": {
            "_model_module": "@jupyter-widgets/base",
            "_model_module_version": "1.2.0",
            "_model_name": "LayoutModel",
            "_view_count": null,
            "_view_module": "@jupyter-widgets/base",
            "_view_module_version": "1.2.0",
            "_view_name": "LayoutView",
            "align_content": null,
            "align_items": null,
            "align_self": null,
            "border": null,
            "bottom": null,
            "display": null,
            "flex": null,
            "flex_flow": null,
            "grid_area": null,
            "grid_auto_columns": null,
            "grid_auto_flow": null,
            "grid_auto_rows": null,
            "grid_column": null,
            "grid_gap": null,
            "grid_row": null,
            "grid_template_areas": null,
            "grid_template_columns": null,
            "grid_template_rows": null,
            "height": null,
            "justify_content": null,
            "justify_items": null,
            "left": null,
            "margin": null,
            "max_height": null,
            "max_width": null,
            "min_height": null,
            "min_width": null,
            "object_fit": null,
            "object_position": null,
            "order": null,
            "overflow": null,
            "overflow_x": null,
            "overflow_y": null,
            "padding": null,
            "right": null,
            "top": null,
            "visibility": null,
            "width": null
          }
        },
        "8bd8f4a3746b4a70bf57775d19bb9392": {
          "model_module": "@jupyter-widgets/controls",
          "model_name": "DescriptionStyleModel",
          "model_module_version": "1.5.0",
          "state": {
            "_model_module": "@jupyter-widgets/controls",
            "_model_module_version": "1.5.0",
            "_model_name": "DescriptionStyleModel",
            "_view_count": null,
            "_view_module": "@jupyter-widgets/base",
            "_view_module_version": "1.2.0",
            "_view_name": "StyleView",
            "description_width": ""
          }
        },
        "665ad93487ad4e7aa7f70da69626e81a": {
          "model_module": "@jupyter-widgets/base",
          "model_name": "LayoutModel",
          "model_module_version": "1.2.0",
          "state": {
            "_model_module": "@jupyter-widgets/base",
            "_model_module_version": "1.2.0",
            "_model_name": "LayoutModel",
            "_view_count": null,
            "_view_module": "@jupyter-widgets/base",
            "_view_module_version": "1.2.0",
            "_view_name": "LayoutView",
            "align_content": null,
            "align_items": null,
            "align_self": null,
            "border": null,
            "bottom": null,
            "display": null,
            "flex": null,
            "flex_flow": null,
            "grid_area": null,
            "grid_auto_columns": null,
            "grid_auto_flow": null,
            "grid_auto_rows": null,
            "grid_column": null,
            "grid_gap": null,
            "grid_row": null,
            "grid_template_areas": null,
            "grid_template_columns": null,
            "grid_template_rows": null,
            "height": null,
            "justify_content": null,
            "justify_items": null,
            "left": null,
            "margin": null,
            "max_height": null,
            "max_width": null,
            "min_height": null,
            "min_width": null,
            "object_fit": null,
            "object_position": null,
            "order": null,
            "overflow": null,
            "overflow_x": null,
            "overflow_y": null,
            "padding": null,
            "right": null,
            "top": null,
            "visibility": null,
            "width": null
          }
        },
        "52bcb35239754c7fabf4a1e609131de2": {
          "model_module": "@jupyter-widgets/controls",
          "model_name": "ProgressStyleModel",
          "model_module_version": "1.5.0",
          "state": {
            "_model_module": "@jupyter-widgets/controls",
            "_model_module_version": "1.5.0",
            "_model_name": "ProgressStyleModel",
            "_view_count": null,
            "_view_module": "@jupyter-widgets/base",
            "_view_module_version": "1.2.0",
            "_view_name": "StyleView",
            "bar_color": null,
            "description_width": ""
          }
        },
        "f8dca5b560e248b99c202627668af109": {
          "model_module": "@jupyter-widgets/base",
          "model_name": "LayoutModel",
          "model_module_version": "1.2.0",
          "state": {
            "_model_module": "@jupyter-widgets/base",
            "_model_module_version": "1.2.0",
            "_model_name": "LayoutModel",
            "_view_count": null,
            "_view_module": "@jupyter-widgets/base",
            "_view_module_version": "1.2.0",
            "_view_name": "LayoutView",
            "align_content": null,
            "align_items": null,
            "align_self": null,
            "border": null,
            "bottom": null,
            "display": null,
            "flex": null,
            "flex_flow": null,
            "grid_area": null,
            "grid_auto_columns": null,
            "grid_auto_flow": null,
            "grid_auto_rows": null,
            "grid_column": null,
            "grid_gap": null,
            "grid_row": null,
            "grid_template_areas": null,
            "grid_template_columns": null,
            "grid_template_rows": null,
            "height": null,
            "justify_content": null,
            "justify_items": null,
            "left": null,
            "margin": null,
            "max_height": null,
            "max_width": null,
            "min_height": null,
            "min_width": null,
            "object_fit": null,
            "object_position": null,
            "order": null,
            "overflow": null,
            "overflow_x": null,
            "overflow_y": null,
            "padding": null,
            "right": null,
            "top": null,
            "visibility": null,
            "width": null
          }
        },
        "dbda4cfe979c4cf0a66d64f790a73e14": {
          "model_module": "@jupyter-widgets/controls",
          "model_name": "DescriptionStyleModel",
          "model_module_version": "1.5.0",
          "state": {
            "_model_module": "@jupyter-widgets/controls",
            "_model_module_version": "1.5.0",
            "_model_name": "DescriptionStyleModel",
            "_view_count": null,
            "_view_module": "@jupyter-widgets/base",
            "_view_module_version": "1.2.0",
            "_view_name": "StyleView",
            "description_width": ""
          }
        },
        "8c2a519f6fea4d029df7b841add57a50": {
          "model_module": "@jupyter-widgets/controls",
          "model_name": "HBoxModel",
          "model_module_version": "1.5.0",
          "state": {
            "_dom_classes": [],
            "_model_module": "@jupyter-widgets/controls",
            "_model_module_version": "1.5.0",
            "_model_name": "HBoxModel",
            "_view_count": null,
            "_view_module": "@jupyter-widgets/controls",
            "_view_module_version": "1.5.0",
            "_view_name": "HBoxView",
            "box_style": "",
            "children": [
              "IPY_MODEL_3b67a4af9ef44220b675021d2becf8ab",
              "IPY_MODEL_e6701e8684a3477193fcdfde04472627",
              "IPY_MODEL_9ff86d8e00f74f8f9cef97eebe606bc0"
            ],
            "layout": "IPY_MODEL_8efbb461328b4c0bbbf4d8f38a9d619e"
          }
        },
        "3b67a4af9ef44220b675021d2becf8ab": {
          "model_module": "@jupyter-widgets/controls",
          "model_name": "HTMLModel",
          "model_module_version": "1.5.0",
          "state": {
            "_dom_classes": [],
            "_model_module": "@jupyter-widgets/controls",
            "_model_module_version": "1.5.0",
            "_model_name": "HTMLModel",
            "_view_count": null,
            "_view_module": "@jupyter-widgets/controls",
            "_view_module_version": "1.5.0",
            "_view_name": "HTMLView",
            "description": "",
            "description_tooltip": null,
            "layout": "IPY_MODEL_c512e7ec6aae42d6b3ceb63ef72a4a29",
            "placeholder": "​",
            "style": "IPY_MODEL_6592f7cf3cbd4b289593b7f2a3ab889d",
            "value": "100%"
          }
        },
        "e6701e8684a3477193fcdfde04472627": {
          "model_module": "@jupyter-widgets/controls",
          "model_name": "FloatProgressModel",
          "model_module_version": "1.5.0",
          "state": {
            "_dom_classes": [],
            "_model_module": "@jupyter-widgets/controls",
            "_model_module_version": "1.5.0",
            "_model_name": "FloatProgressModel",
            "_view_count": null,
            "_view_module": "@jupyter-widgets/controls",
            "_view_module_version": "1.5.0",
            "_view_name": "ProgressView",
            "bar_style": "success",
            "description": "",
            "description_tooltip": null,
            "layout": "IPY_MODEL_b036d9cd60b9443cbe3aa1c74db61292",
            "max": 29515,
            "min": 0,
            "orientation": "horizontal",
            "style": "IPY_MODEL_8922b4db165842199b169d5ad7eeaf1e",
            "value": 29515
          }
        },
        "9ff86d8e00f74f8f9cef97eebe606bc0": {
          "model_module": "@jupyter-widgets/controls",
          "model_name": "HTMLModel",
          "model_module_version": "1.5.0",
          "state": {
            "_dom_classes": [],
            "_model_module": "@jupyter-widgets/controls",
            "_model_module_version": "1.5.0",
            "_model_name": "HTMLModel",
            "_view_count": null,
            "_view_module": "@jupyter-widgets/controls",
            "_view_module_version": "1.5.0",
            "_view_name": "HTMLView",
            "description": "",
            "description_tooltip": null,
            "layout": "IPY_MODEL_8c4ca0f7b2db4a1a935f5992c78bf899",
            "placeholder": "​",
            "style": "IPY_MODEL_a8feb09fff1a45598fe30e681205765e",
            "value": " 29515/29515 [00:00&lt;00:00, 734360.86it/s]"
          }
        },
        "8efbb461328b4c0bbbf4d8f38a9d619e": {
          "model_module": "@jupyter-widgets/base",
          "model_name": "LayoutModel",
          "model_module_version": "1.2.0",
          "state": {
            "_model_module": "@jupyter-widgets/base",
            "_model_module_version": "1.2.0",
            "_model_name": "LayoutModel",
            "_view_count": null,
            "_view_module": "@jupyter-widgets/base",
            "_view_module_version": "1.2.0",
            "_view_name": "LayoutView",
            "align_content": null,
            "align_items": null,
            "align_self": null,
            "border": null,
            "bottom": null,
            "display": null,
            "flex": null,
            "flex_flow": null,
            "grid_area": null,
            "grid_auto_columns": null,
            "grid_auto_flow": null,
            "grid_auto_rows": null,
            "grid_column": null,
            "grid_gap": null,
            "grid_row": null,
            "grid_template_areas": null,
            "grid_template_columns": null,
            "grid_template_rows": null,
            "height": null,
            "justify_content": null,
            "justify_items": null,
            "left": null,
            "margin": null,
            "max_height": null,
            "max_width": null,
            "min_height": null,
            "min_width": null,
            "object_fit": null,
            "object_position": null,
            "order": null,
            "overflow": null,
            "overflow_x": null,
            "overflow_y": null,
            "padding": null,
            "right": null,
            "top": null,
            "visibility": null,
            "width": null
          }
        },
        "c512e7ec6aae42d6b3ceb63ef72a4a29": {
          "model_module": "@jupyter-widgets/base",
          "model_name": "LayoutModel",
          "model_module_version": "1.2.0",
          "state": {
            "_model_module": "@jupyter-widgets/base",
            "_model_module_version": "1.2.0",
            "_model_name": "LayoutModel",
            "_view_count": null,
            "_view_module": "@jupyter-widgets/base",
            "_view_module_version": "1.2.0",
            "_view_name": "LayoutView",
            "align_content": null,
            "align_items": null,
            "align_self": null,
            "border": null,
            "bottom": null,
            "display": null,
            "flex": null,
            "flex_flow": null,
            "grid_area": null,
            "grid_auto_columns": null,
            "grid_auto_flow": null,
            "grid_auto_rows": null,
            "grid_column": null,
            "grid_gap": null,
            "grid_row": null,
            "grid_template_areas": null,
            "grid_template_columns": null,
            "grid_template_rows": null,
            "height": null,
            "justify_content": null,
            "justify_items": null,
            "left": null,
            "margin": null,
            "max_height": null,
            "max_width": null,
            "min_height": null,
            "min_width": null,
            "object_fit": null,
            "object_position": null,
            "order": null,
            "overflow": null,
            "overflow_x": null,
            "overflow_y": null,
            "padding": null,
            "right": null,
            "top": null,
            "visibility": null,
            "width": null
          }
        },
        "6592f7cf3cbd4b289593b7f2a3ab889d": {
          "model_module": "@jupyter-widgets/controls",
          "model_name": "DescriptionStyleModel",
          "model_module_version": "1.5.0",
          "state": {
            "_model_module": "@jupyter-widgets/controls",
            "_model_module_version": "1.5.0",
            "_model_name": "DescriptionStyleModel",
            "_view_count": null,
            "_view_module": "@jupyter-widgets/base",
            "_view_module_version": "1.2.0",
            "_view_name": "StyleView",
            "description_width": ""
          }
        },
        "b036d9cd60b9443cbe3aa1c74db61292": {
          "model_module": "@jupyter-widgets/base",
          "model_name": "LayoutModel",
          "model_module_version": "1.2.0",
          "state": {
            "_model_module": "@jupyter-widgets/base",
            "_model_module_version": "1.2.0",
            "_model_name": "LayoutModel",
            "_view_count": null,
            "_view_module": "@jupyter-widgets/base",
            "_view_module_version": "1.2.0",
            "_view_name": "LayoutView",
            "align_content": null,
            "align_items": null,
            "align_self": null,
            "border": null,
            "bottom": null,
            "display": null,
            "flex": null,
            "flex_flow": null,
            "grid_area": null,
            "grid_auto_columns": null,
            "grid_auto_flow": null,
            "grid_auto_rows": null,
            "grid_column": null,
            "grid_gap": null,
            "grid_row": null,
            "grid_template_areas": null,
            "grid_template_columns": null,
            "grid_template_rows": null,
            "height": null,
            "justify_content": null,
            "justify_items": null,
            "left": null,
            "margin": null,
            "max_height": null,
            "max_width": null,
            "min_height": null,
            "min_width": null,
            "object_fit": null,
            "object_position": null,
            "order": null,
            "overflow": null,
            "overflow_x": null,
            "overflow_y": null,
            "padding": null,
            "right": null,
            "top": null,
            "visibility": null,
            "width": null
          }
        },
        "8922b4db165842199b169d5ad7eeaf1e": {
          "model_module": "@jupyter-widgets/controls",
          "model_name": "ProgressStyleModel",
          "model_module_version": "1.5.0",
          "state": {
            "_model_module": "@jupyter-widgets/controls",
            "_model_module_version": "1.5.0",
            "_model_name": "ProgressStyleModel",
            "_view_count": null,
            "_view_module": "@jupyter-widgets/base",
            "_view_module_version": "1.2.0",
            "_view_name": "StyleView",
            "bar_color": null,
            "description_width": ""
          }
        },
        "8c4ca0f7b2db4a1a935f5992c78bf899": {
          "model_module": "@jupyter-widgets/base",
          "model_name": "LayoutModel",
          "model_module_version": "1.2.0",
          "state": {
            "_model_module": "@jupyter-widgets/base",
            "_model_module_version": "1.2.0",
            "_model_name": "LayoutModel",
            "_view_count": null,
            "_view_module": "@jupyter-widgets/base",
            "_view_module_version": "1.2.0",
            "_view_name": "LayoutView",
            "align_content": null,
            "align_items": null,
            "align_self": null,
            "border": null,
            "bottom": null,
            "display": null,
            "flex": null,
            "flex_flow": null,
            "grid_area": null,
            "grid_auto_columns": null,
            "grid_auto_flow": null,
            "grid_auto_rows": null,
            "grid_column": null,
            "grid_gap": null,
            "grid_row": null,
            "grid_template_areas": null,
            "grid_template_columns": null,
            "grid_template_rows": null,
            "height": null,
            "justify_content": null,
            "justify_items": null,
            "left": null,
            "margin": null,
            "max_height": null,
            "max_width": null,
            "min_height": null,
            "min_width": null,
            "object_fit": null,
            "object_position": null,
            "order": null,
            "overflow": null,
            "overflow_x": null,
            "overflow_y": null,
            "padding": null,
            "right": null,
            "top": null,
            "visibility": null,
            "width": null
          }
        },
        "a8feb09fff1a45598fe30e681205765e": {
          "model_module": "@jupyter-widgets/controls",
          "model_name": "DescriptionStyleModel",
          "model_module_version": "1.5.0",
          "state": {
            "_model_module": "@jupyter-widgets/controls",
            "_model_module_version": "1.5.0",
            "_model_name": "DescriptionStyleModel",
            "_view_count": null,
            "_view_module": "@jupyter-widgets/base",
            "_view_module_version": "1.2.0",
            "_view_name": "StyleView",
            "description_width": ""
          }
        },
        "017e11277f754c69b26634dd4f2eaeb3": {
          "model_module": "@jupyter-widgets/controls",
          "model_name": "HBoxModel",
          "model_module_version": "1.5.0",
          "state": {
            "_dom_classes": [],
            "_model_module": "@jupyter-widgets/controls",
            "_model_module_version": "1.5.0",
            "_model_name": "HBoxModel",
            "_view_count": null,
            "_view_module": "@jupyter-widgets/controls",
            "_view_module_version": "1.5.0",
            "_view_name": "HBoxView",
            "box_style": "",
            "children": [
              "IPY_MODEL_0f636c5989cc453fb0bf2d76c3c76b04",
              "IPY_MODEL_1f6a051154ca46b487245789f7e45930",
              "IPY_MODEL_add2827bf7bb4c7db6765bb102029eda"
            ],
            "layout": "IPY_MODEL_7ee5f85c2c4440d6a45b1830e11dba54"
          }
        },
        "0f636c5989cc453fb0bf2d76c3c76b04": {
          "model_module": "@jupyter-widgets/controls",
          "model_name": "HTMLModel",
          "model_module_version": "1.5.0",
          "state": {
            "_dom_classes": [],
            "_model_module": "@jupyter-widgets/controls",
            "_model_module_version": "1.5.0",
            "_model_name": "HTMLModel",
            "_view_count": null,
            "_view_module": "@jupyter-widgets/controls",
            "_view_module_version": "1.5.0",
            "_view_name": "HTMLView",
            "description": "",
            "description_tooltip": null,
            "layout": "IPY_MODEL_b68d8f90c85b45ba8e47d471a7f1c473",
            "placeholder": "​",
            "style": "IPY_MODEL_c145490a331c430eb310b5a7737e474e",
            "value": "100%"
          }
        },
        "1f6a051154ca46b487245789f7e45930": {
          "model_module": "@jupyter-widgets/controls",
          "model_name": "FloatProgressModel",
          "model_module_version": "1.5.0",
          "state": {
            "_dom_classes": [],
            "_model_module": "@jupyter-widgets/controls",
            "_model_module_version": "1.5.0",
            "_model_name": "FloatProgressModel",
            "_view_count": null,
            "_view_module": "@jupyter-widgets/controls",
            "_view_module_version": "1.5.0",
            "_view_name": "ProgressView",
            "bar_style": "success",
            "description": "",
            "description_tooltip": null,
            "layout": "IPY_MODEL_5d7d6d5026e14536bda487fa3574dac0",
            "max": 4422102,
            "min": 0,
            "orientation": "horizontal",
            "style": "IPY_MODEL_08dbc423e53b41b9bd4c19f2f1a04cad",
            "value": 4422102
          }
        },
        "add2827bf7bb4c7db6765bb102029eda": {
          "model_module": "@jupyter-widgets/controls",
          "model_name": "HTMLModel",
          "model_module_version": "1.5.0",
          "state": {
            "_dom_classes": [],
            "_model_module": "@jupyter-widgets/controls",
            "_model_module_version": "1.5.0",
            "_model_name": "HTMLModel",
            "_view_count": null,
            "_view_module": "@jupyter-widgets/controls",
            "_view_module_version": "1.5.0",
            "_view_name": "HTMLView",
            "description": "",
            "description_tooltip": null,
            "layout": "IPY_MODEL_0f7e1396227a4376943092a11373f721",
            "placeholder": "​",
            "style": "IPY_MODEL_04fb3b8bbe4c4e74ab8619fd1f8bd2fa",
            "value": " 4422102/4422102 [00:00&lt;00:00, 53033411.32it/s]"
          }
        },
        "7ee5f85c2c4440d6a45b1830e11dba54": {
          "model_module": "@jupyter-widgets/base",
          "model_name": "LayoutModel",
          "model_module_version": "1.2.0",
          "state": {
            "_model_module": "@jupyter-widgets/base",
            "_model_module_version": "1.2.0",
            "_model_name": "LayoutModel",
            "_view_count": null,
            "_view_module": "@jupyter-widgets/base",
            "_view_module_version": "1.2.0",
            "_view_name": "LayoutView",
            "align_content": null,
            "align_items": null,
            "align_self": null,
            "border": null,
            "bottom": null,
            "display": null,
            "flex": null,
            "flex_flow": null,
            "grid_area": null,
            "grid_auto_columns": null,
            "grid_auto_flow": null,
            "grid_auto_rows": null,
            "grid_column": null,
            "grid_gap": null,
            "grid_row": null,
            "grid_template_areas": null,
            "grid_template_columns": null,
            "grid_template_rows": null,
            "height": null,
            "justify_content": null,
            "justify_items": null,
            "left": null,
            "margin": null,
            "max_height": null,
            "max_width": null,
            "min_height": null,
            "min_width": null,
            "object_fit": null,
            "object_position": null,
            "order": null,
            "overflow": null,
            "overflow_x": null,
            "overflow_y": null,
            "padding": null,
            "right": null,
            "top": null,
            "visibility": null,
            "width": null
          }
        },
        "b68d8f90c85b45ba8e47d471a7f1c473": {
          "model_module": "@jupyter-widgets/base",
          "model_name": "LayoutModel",
          "model_module_version": "1.2.0",
          "state": {
            "_model_module": "@jupyter-widgets/base",
            "_model_module_version": "1.2.0",
            "_model_name": "LayoutModel",
            "_view_count": null,
            "_view_module": "@jupyter-widgets/base",
            "_view_module_version": "1.2.0",
            "_view_name": "LayoutView",
            "align_content": null,
            "align_items": null,
            "align_self": null,
            "border": null,
            "bottom": null,
            "display": null,
            "flex": null,
            "flex_flow": null,
            "grid_area": null,
            "grid_auto_columns": null,
            "grid_auto_flow": null,
            "grid_auto_rows": null,
            "grid_column": null,
            "grid_gap": null,
            "grid_row": null,
            "grid_template_areas": null,
            "grid_template_columns": null,
            "grid_template_rows": null,
            "height": null,
            "justify_content": null,
            "justify_items": null,
            "left": null,
            "margin": null,
            "max_height": null,
            "max_width": null,
            "min_height": null,
            "min_width": null,
            "object_fit": null,
            "object_position": null,
            "order": null,
            "overflow": null,
            "overflow_x": null,
            "overflow_y": null,
            "padding": null,
            "right": null,
            "top": null,
            "visibility": null,
            "width": null
          }
        },
        "c145490a331c430eb310b5a7737e474e": {
          "model_module": "@jupyter-widgets/controls",
          "model_name": "DescriptionStyleModel",
          "model_module_version": "1.5.0",
          "state": {
            "_model_module": "@jupyter-widgets/controls",
            "_model_module_version": "1.5.0",
            "_model_name": "DescriptionStyleModel",
            "_view_count": null,
            "_view_module": "@jupyter-widgets/base",
            "_view_module_version": "1.2.0",
            "_view_name": "StyleView",
            "description_width": ""
          }
        },
        "5d7d6d5026e14536bda487fa3574dac0": {
          "model_module": "@jupyter-widgets/base",
          "model_name": "LayoutModel",
          "model_module_version": "1.2.0",
          "state": {
            "_model_module": "@jupyter-widgets/base",
            "_model_module_version": "1.2.0",
            "_model_name": "LayoutModel",
            "_view_count": null,
            "_view_module": "@jupyter-widgets/base",
            "_view_module_version": "1.2.0",
            "_view_name": "LayoutView",
            "align_content": null,
            "align_items": null,
            "align_self": null,
            "border": null,
            "bottom": null,
            "display": null,
            "flex": null,
            "flex_flow": null,
            "grid_area": null,
            "grid_auto_columns": null,
            "grid_auto_flow": null,
            "grid_auto_rows": null,
            "grid_column": null,
            "grid_gap": null,
            "grid_row": null,
            "grid_template_areas": null,
            "grid_template_columns": null,
            "grid_template_rows": null,
            "height": null,
            "justify_content": null,
            "justify_items": null,
            "left": null,
            "margin": null,
            "max_height": null,
            "max_width": null,
            "min_height": null,
            "min_width": null,
            "object_fit": null,
            "object_position": null,
            "order": null,
            "overflow": null,
            "overflow_x": null,
            "overflow_y": null,
            "padding": null,
            "right": null,
            "top": null,
            "visibility": null,
            "width": null
          }
        },
        "08dbc423e53b41b9bd4c19f2f1a04cad": {
          "model_module": "@jupyter-widgets/controls",
          "model_name": "ProgressStyleModel",
          "model_module_version": "1.5.0",
          "state": {
            "_model_module": "@jupyter-widgets/controls",
            "_model_module_version": "1.5.0",
            "_model_name": "ProgressStyleModel",
            "_view_count": null,
            "_view_module": "@jupyter-widgets/base",
            "_view_module_version": "1.2.0",
            "_view_name": "StyleView",
            "bar_color": null,
            "description_width": ""
          }
        },
        "0f7e1396227a4376943092a11373f721": {
          "model_module": "@jupyter-widgets/base",
          "model_name": "LayoutModel",
          "model_module_version": "1.2.0",
          "state": {
            "_model_module": "@jupyter-widgets/base",
            "_model_module_version": "1.2.0",
            "_model_name": "LayoutModel",
            "_view_count": null,
            "_view_module": "@jupyter-widgets/base",
            "_view_module_version": "1.2.0",
            "_view_name": "LayoutView",
            "align_content": null,
            "align_items": null,
            "align_self": null,
            "border": null,
            "bottom": null,
            "display": null,
            "flex": null,
            "flex_flow": null,
            "grid_area": null,
            "grid_auto_columns": null,
            "grid_auto_flow": null,
            "grid_auto_rows": null,
            "grid_column": null,
            "grid_gap": null,
            "grid_row": null,
            "grid_template_areas": null,
            "grid_template_columns": null,
            "grid_template_rows": null,
            "height": null,
            "justify_content": null,
            "justify_items": null,
            "left": null,
            "margin": null,
            "max_height": null,
            "max_width": null,
            "min_height": null,
            "min_width": null,
            "object_fit": null,
            "object_position": null,
            "order": null,
            "overflow": null,
            "overflow_x": null,
            "overflow_y": null,
            "padding": null,
            "right": null,
            "top": null,
            "visibility": null,
            "width": null
          }
        },
        "04fb3b8bbe4c4e74ab8619fd1f8bd2fa": {
          "model_module": "@jupyter-widgets/controls",
          "model_name": "DescriptionStyleModel",
          "model_module_version": "1.5.0",
          "state": {
            "_model_module": "@jupyter-widgets/controls",
            "_model_module_version": "1.5.0",
            "_model_name": "DescriptionStyleModel",
            "_view_count": null,
            "_view_module": "@jupyter-widgets/base",
            "_view_module_version": "1.2.0",
            "_view_name": "StyleView",
            "description_width": ""
          }
        },
        "b4db0194ef03458087143105a85ad2c1": {
          "model_module": "@jupyter-widgets/controls",
          "model_name": "HBoxModel",
          "model_module_version": "1.5.0",
          "state": {
            "_dom_classes": [],
            "_model_module": "@jupyter-widgets/controls",
            "_model_module_version": "1.5.0",
            "_model_name": "HBoxModel",
            "_view_count": null,
            "_view_module": "@jupyter-widgets/controls",
            "_view_module_version": "1.5.0",
            "_view_name": "HBoxView",
            "box_style": "",
            "children": [
              "IPY_MODEL_82ad774d5c684d1eaf68c7fd0d2b51c1",
              "IPY_MODEL_acbe515cf33c4645be7a65bdc483a7b2",
              "IPY_MODEL_643735303e6f43f892837cbe86bf7b57"
            ],
            "layout": "IPY_MODEL_1586b68a9612468db657b82ac945d71b"
          }
        },
        "82ad774d5c684d1eaf68c7fd0d2b51c1": {
          "model_module": "@jupyter-widgets/controls",
          "model_name": "HTMLModel",
          "model_module_version": "1.5.0",
          "state": {
            "_dom_classes": [],
            "_model_module": "@jupyter-widgets/controls",
            "_model_module_version": "1.5.0",
            "_model_name": "HTMLModel",
            "_view_count": null,
            "_view_module": "@jupyter-widgets/controls",
            "_view_module_version": "1.5.0",
            "_view_name": "HTMLView",
            "description": "",
            "description_tooltip": null,
            "layout": "IPY_MODEL_25aaa56c027442f084e1342c7a4ef0cf",
            "placeholder": "​",
            "style": "IPY_MODEL_b93e031e6e09484e8a4ccd8988d92413",
            "value": "100%"
          }
        },
        "acbe515cf33c4645be7a65bdc483a7b2": {
          "model_module": "@jupyter-widgets/controls",
          "model_name": "FloatProgressModel",
          "model_module_version": "1.5.0",
          "state": {
            "_dom_classes": [],
            "_model_module": "@jupyter-widgets/controls",
            "_model_module_version": "1.5.0",
            "_model_name": "FloatProgressModel",
            "_view_count": null,
            "_view_module": "@jupyter-widgets/controls",
            "_view_module_version": "1.5.0",
            "_view_name": "ProgressView",
            "bar_style": "success",
            "description": "",
            "description_tooltip": null,
            "layout": "IPY_MODEL_c6044ddaf41c4e53a41f4f46bbc044c1",
            "max": 5148,
            "min": 0,
            "orientation": "horizontal",
            "style": "IPY_MODEL_f30d3c718ea04d48a35d8ecd234f6a06",
            "value": 5148
          }
        },
        "643735303e6f43f892837cbe86bf7b57": {
          "model_module": "@jupyter-widgets/controls",
          "model_name": "HTMLModel",
          "model_module_version": "1.5.0",
          "state": {
            "_dom_classes": [],
            "_model_module": "@jupyter-widgets/controls",
            "_model_module_version": "1.5.0",
            "_model_name": "HTMLModel",
            "_view_count": null,
            "_view_module": "@jupyter-widgets/controls",
            "_view_module_version": "1.5.0",
            "_view_name": "HTMLView",
            "description": "",
            "description_tooltip": null,
            "layout": "IPY_MODEL_878ebf17961f49b281f1bd7908c7657e",
            "placeholder": "​",
            "style": "IPY_MODEL_64d3d78945cd4258a2794e43c1bf6044",
            "value": " 5148/5148 [00:00&lt;00:00, 107423.19it/s]"
          }
        },
        "1586b68a9612468db657b82ac945d71b": {
          "model_module": "@jupyter-widgets/base",
          "model_name": "LayoutModel",
          "model_module_version": "1.2.0",
          "state": {
            "_model_module": "@jupyter-widgets/base",
            "_model_module_version": "1.2.0",
            "_model_name": "LayoutModel",
            "_view_count": null,
            "_view_module": "@jupyter-widgets/base",
            "_view_module_version": "1.2.0",
            "_view_name": "LayoutView",
            "align_content": null,
            "align_items": null,
            "align_self": null,
            "border": null,
            "bottom": null,
            "display": null,
            "flex": null,
            "flex_flow": null,
            "grid_area": null,
            "grid_auto_columns": null,
            "grid_auto_flow": null,
            "grid_auto_rows": null,
            "grid_column": null,
            "grid_gap": null,
            "grid_row": null,
            "grid_template_areas": null,
            "grid_template_columns": null,
            "grid_template_rows": null,
            "height": null,
            "justify_content": null,
            "justify_items": null,
            "left": null,
            "margin": null,
            "max_height": null,
            "max_width": null,
            "min_height": null,
            "min_width": null,
            "object_fit": null,
            "object_position": null,
            "order": null,
            "overflow": null,
            "overflow_x": null,
            "overflow_y": null,
            "padding": null,
            "right": null,
            "top": null,
            "visibility": null,
            "width": null
          }
        },
        "25aaa56c027442f084e1342c7a4ef0cf": {
          "model_module": "@jupyter-widgets/base",
          "model_name": "LayoutModel",
          "model_module_version": "1.2.0",
          "state": {
            "_model_module": "@jupyter-widgets/base",
            "_model_module_version": "1.2.0",
            "_model_name": "LayoutModel",
            "_view_count": null,
            "_view_module": "@jupyter-widgets/base",
            "_view_module_version": "1.2.0",
            "_view_name": "LayoutView",
            "align_content": null,
            "align_items": null,
            "align_self": null,
            "border": null,
            "bottom": null,
            "display": null,
            "flex": null,
            "flex_flow": null,
            "grid_area": null,
            "grid_auto_columns": null,
            "grid_auto_flow": null,
            "grid_auto_rows": null,
            "grid_column": null,
            "grid_gap": null,
            "grid_row": null,
            "grid_template_areas": null,
            "grid_template_columns": null,
            "grid_template_rows": null,
            "height": null,
            "justify_content": null,
            "justify_items": null,
            "left": null,
            "margin": null,
            "max_height": null,
            "max_width": null,
            "min_height": null,
            "min_width": null,
            "object_fit": null,
            "object_position": null,
            "order": null,
            "overflow": null,
            "overflow_x": null,
            "overflow_y": null,
            "padding": null,
            "right": null,
            "top": null,
            "visibility": null,
            "width": null
          }
        },
        "b93e031e6e09484e8a4ccd8988d92413": {
          "model_module": "@jupyter-widgets/controls",
          "model_name": "DescriptionStyleModel",
          "model_module_version": "1.5.0",
          "state": {
            "_model_module": "@jupyter-widgets/controls",
            "_model_module_version": "1.5.0",
            "_model_name": "DescriptionStyleModel",
            "_view_count": null,
            "_view_module": "@jupyter-widgets/base",
            "_view_module_version": "1.2.0",
            "_view_name": "StyleView",
            "description_width": ""
          }
        },
        "c6044ddaf41c4e53a41f4f46bbc044c1": {
          "model_module": "@jupyter-widgets/base",
          "model_name": "LayoutModel",
          "model_module_version": "1.2.0",
          "state": {
            "_model_module": "@jupyter-widgets/base",
            "_model_module_version": "1.2.0",
            "_model_name": "LayoutModel",
            "_view_count": null,
            "_view_module": "@jupyter-widgets/base",
            "_view_module_version": "1.2.0",
            "_view_name": "LayoutView",
            "align_content": null,
            "align_items": null,
            "align_self": null,
            "border": null,
            "bottom": null,
            "display": null,
            "flex": null,
            "flex_flow": null,
            "grid_area": null,
            "grid_auto_columns": null,
            "grid_auto_flow": null,
            "grid_auto_rows": null,
            "grid_column": null,
            "grid_gap": null,
            "grid_row": null,
            "grid_template_areas": null,
            "grid_template_columns": null,
            "grid_template_rows": null,
            "height": null,
            "justify_content": null,
            "justify_items": null,
            "left": null,
            "margin": null,
            "max_height": null,
            "max_width": null,
            "min_height": null,
            "min_width": null,
            "object_fit": null,
            "object_position": null,
            "order": null,
            "overflow": null,
            "overflow_x": null,
            "overflow_y": null,
            "padding": null,
            "right": null,
            "top": null,
            "visibility": null,
            "width": null
          }
        },
        "f30d3c718ea04d48a35d8ecd234f6a06": {
          "model_module": "@jupyter-widgets/controls",
          "model_name": "ProgressStyleModel",
          "model_module_version": "1.5.0",
          "state": {
            "_model_module": "@jupyter-widgets/controls",
            "_model_module_version": "1.5.0",
            "_model_name": "ProgressStyleModel",
            "_view_count": null,
            "_view_module": "@jupyter-widgets/base",
            "_view_module_version": "1.2.0",
            "_view_name": "StyleView",
            "bar_color": null,
            "description_width": ""
          }
        },
        "878ebf17961f49b281f1bd7908c7657e": {
          "model_module": "@jupyter-widgets/base",
          "model_name": "LayoutModel",
          "model_module_version": "1.2.0",
          "state": {
            "_model_module": "@jupyter-widgets/base",
            "_model_module_version": "1.2.0",
            "_model_name": "LayoutModel",
            "_view_count": null,
            "_view_module": "@jupyter-widgets/base",
            "_view_module_version": "1.2.0",
            "_view_name": "LayoutView",
            "align_content": null,
            "align_items": null,
            "align_self": null,
            "border": null,
            "bottom": null,
            "display": null,
            "flex": null,
            "flex_flow": null,
            "grid_area": null,
            "grid_auto_columns": null,
            "grid_auto_flow": null,
            "grid_auto_rows": null,
            "grid_column": null,
            "grid_gap": null,
            "grid_row": null,
            "grid_template_areas": null,
            "grid_template_columns": null,
            "grid_template_rows": null,
            "height": null,
            "justify_content": null,
            "justify_items": null,
            "left": null,
            "margin": null,
            "max_height": null,
            "max_width": null,
            "min_height": null,
            "min_width": null,
            "object_fit": null,
            "object_position": null,
            "order": null,
            "overflow": null,
            "overflow_x": null,
            "overflow_y": null,
            "padding": null,
            "right": null,
            "top": null,
            "visibility": null,
            "width": null
          }
        },
        "64d3d78945cd4258a2794e43c1bf6044": {
          "model_module": "@jupyter-widgets/controls",
          "model_name": "DescriptionStyleModel",
          "model_module_version": "1.5.0",
          "state": {
            "_model_module": "@jupyter-widgets/controls",
            "_model_module_version": "1.5.0",
            "_model_name": "DescriptionStyleModel",
            "_view_count": null,
            "_view_module": "@jupyter-widgets/base",
            "_view_module_version": "1.2.0",
            "_view_name": "StyleView",
            "description_width": ""
          }
        },
        "8996b530c5ea40b2bdb1565a968ee694": {
          "model_module": "@jupyter-widgets/controls",
          "model_name": "HBoxModel",
          "model_module_version": "1.5.0",
          "state": {
            "_dom_classes": [],
            "_model_module": "@jupyter-widgets/controls",
            "_model_module_version": "1.5.0",
            "_model_name": "HBoxModel",
            "_view_count": null,
            "_view_module": "@jupyter-widgets/controls",
            "_view_module_version": "1.5.0",
            "_view_name": "HBoxView",
            "box_style": "",
            "children": [
              "IPY_MODEL_46dab49c8aea483f880016449f38fa0d",
              "IPY_MODEL_4314678e4aed45f983a3c349a74f357d",
              "IPY_MODEL_fb83b8b427074995ae21baa5f66f2a86"
            ],
            "layout": "IPY_MODEL_960efa0b35a3401286b8e9bd52a25008"
          }
        },
        "46dab49c8aea483f880016449f38fa0d": {
          "model_module": "@jupyter-widgets/controls",
          "model_name": "HTMLModel",
          "model_module_version": "1.5.0",
          "state": {
            "_dom_classes": [],
            "_model_module": "@jupyter-widgets/controls",
            "_model_module_version": "1.5.0",
            "_model_name": "HTMLModel",
            "_view_count": null,
            "_view_module": "@jupyter-widgets/controls",
            "_view_module_version": "1.5.0",
            "_view_name": "HTMLView",
            "description": "",
            "description_tooltip": null,
            "layout": "IPY_MODEL_dd7ed2ebf95347a5a2ae1c194d2f431a",
            "placeholder": "​",
            "style": "IPY_MODEL_6ef7bea2619247548a750a14a0db2c92",
            "value": ""
          }
        },
        "4314678e4aed45f983a3c349a74f357d": {
          "model_module": "@jupyter-widgets/controls",
          "model_name": "FloatProgressModel",
          "model_module_version": "1.5.0",
          "state": {
            "_dom_classes": [],
            "_model_module": "@jupyter-widgets/controls",
            "_model_module_version": "1.5.0",
            "_model_name": "FloatProgressModel",
            "_view_count": null,
            "_view_module": "@jupyter-widgets/controls",
            "_view_module_version": "1.5.0",
            "_view_name": "ProgressView",
            "bar_style": "success",
            "description": "",
            "description_tooltip": null,
            "layout": "IPY_MODEL_3906d0a5970644cf97d654c7d2f9ba54",
            "max": 1,
            "min": 0,
            "orientation": "horizontal",
            "style": "IPY_MODEL_bef401bb87764e9684c35cfcf24c6975",
            "value": 1
          }
        },
        "fb83b8b427074995ae21baa5f66f2a86": {
          "model_module": "@jupyter-widgets/controls",
          "model_name": "HTMLModel",
          "model_module_version": "1.5.0",
          "state": {
            "_dom_classes": [],
            "_model_module": "@jupyter-widgets/controls",
            "_model_module_version": "1.5.0",
            "_model_name": "HTMLModel",
            "_view_count": null,
            "_view_module": "@jupyter-widgets/controls",
            "_view_module_version": "1.5.0",
            "_view_name": "HTMLView",
            "description": "",
            "description_tooltip": null,
            "layout": "IPY_MODEL_304f8b7b247141989c78ef574897dc8b",
            "placeholder": "​",
            "style": "IPY_MODEL_ab9274bb43f54f88b107be32e8b5e23d",
            "value": " 3750/? [00:17&lt;00:00, 259.45it/s]"
          }
        },
        "960efa0b35a3401286b8e9bd52a25008": {
          "model_module": "@jupyter-widgets/base",
          "model_name": "LayoutModel",
          "model_module_version": "1.2.0",
          "state": {
            "_model_module": "@jupyter-widgets/base",
            "_model_module_version": "1.2.0",
            "_model_name": "LayoutModel",
            "_view_count": null,
            "_view_module": "@jupyter-widgets/base",
            "_view_module_version": "1.2.0",
            "_view_name": "LayoutView",
            "align_content": null,
            "align_items": null,
            "align_self": null,
            "border": null,
            "bottom": null,
            "display": null,
            "flex": null,
            "flex_flow": null,
            "grid_area": null,
            "grid_auto_columns": null,
            "grid_auto_flow": null,
            "grid_auto_rows": null,
            "grid_column": null,
            "grid_gap": null,
            "grid_row": null,
            "grid_template_areas": null,
            "grid_template_columns": null,
            "grid_template_rows": null,
            "height": null,
            "justify_content": null,
            "justify_items": null,
            "left": null,
            "margin": null,
            "max_height": null,
            "max_width": null,
            "min_height": null,
            "min_width": null,
            "object_fit": null,
            "object_position": null,
            "order": null,
            "overflow": null,
            "overflow_x": null,
            "overflow_y": null,
            "padding": null,
            "right": null,
            "top": null,
            "visibility": null,
            "width": null
          }
        },
        "dd7ed2ebf95347a5a2ae1c194d2f431a": {
          "model_module": "@jupyter-widgets/base",
          "model_name": "LayoutModel",
          "model_module_version": "1.2.0",
          "state": {
            "_model_module": "@jupyter-widgets/base",
            "_model_module_version": "1.2.0",
            "_model_name": "LayoutModel",
            "_view_count": null,
            "_view_module": "@jupyter-widgets/base",
            "_view_module_version": "1.2.0",
            "_view_name": "LayoutView",
            "align_content": null,
            "align_items": null,
            "align_self": null,
            "border": null,
            "bottom": null,
            "display": null,
            "flex": null,
            "flex_flow": null,
            "grid_area": null,
            "grid_auto_columns": null,
            "grid_auto_flow": null,
            "grid_auto_rows": null,
            "grid_column": null,
            "grid_gap": null,
            "grid_row": null,
            "grid_template_areas": null,
            "grid_template_columns": null,
            "grid_template_rows": null,
            "height": null,
            "justify_content": null,
            "justify_items": null,
            "left": null,
            "margin": null,
            "max_height": null,
            "max_width": null,
            "min_height": null,
            "min_width": null,
            "object_fit": null,
            "object_position": null,
            "order": null,
            "overflow": null,
            "overflow_x": null,
            "overflow_y": null,
            "padding": null,
            "right": null,
            "top": null,
            "visibility": null,
            "width": null
          }
        },
        "6ef7bea2619247548a750a14a0db2c92": {
          "model_module": "@jupyter-widgets/controls",
          "model_name": "DescriptionStyleModel",
          "model_module_version": "1.5.0",
          "state": {
            "_model_module": "@jupyter-widgets/controls",
            "_model_module_version": "1.5.0",
            "_model_name": "DescriptionStyleModel",
            "_view_count": null,
            "_view_module": "@jupyter-widgets/base",
            "_view_module_version": "1.2.0",
            "_view_name": "StyleView",
            "description_width": ""
          }
        },
        "3906d0a5970644cf97d654c7d2f9ba54": {
          "model_module": "@jupyter-widgets/base",
          "model_name": "LayoutModel",
          "model_module_version": "1.2.0",
          "state": {
            "_model_module": "@jupyter-widgets/base",
            "_model_module_version": "1.2.0",
            "_model_name": "LayoutModel",
            "_view_count": null,
            "_view_module": "@jupyter-widgets/base",
            "_view_module_version": "1.2.0",
            "_view_name": "LayoutView",
            "align_content": null,
            "align_items": null,
            "align_self": null,
            "border": null,
            "bottom": null,
            "display": null,
            "flex": null,
            "flex_flow": null,
            "grid_area": null,
            "grid_auto_columns": null,
            "grid_auto_flow": null,
            "grid_auto_rows": null,
            "grid_column": null,
            "grid_gap": null,
            "grid_row": null,
            "grid_template_areas": null,
            "grid_template_columns": null,
            "grid_template_rows": null,
            "height": null,
            "justify_content": null,
            "justify_items": null,
            "left": null,
            "margin": null,
            "max_height": null,
            "max_width": null,
            "min_height": null,
            "min_width": null,
            "object_fit": null,
            "object_position": null,
            "order": null,
            "overflow": null,
            "overflow_x": null,
            "overflow_y": null,
            "padding": null,
            "right": null,
            "top": null,
            "visibility": null,
            "width": "20px"
          }
        },
        "bef401bb87764e9684c35cfcf24c6975": {
          "model_module": "@jupyter-widgets/controls",
          "model_name": "ProgressStyleModel",
          "model_module_version": "1.5.0",
          "state": {
            "_model_module": "@jupyter-widgets/controls",
            "_model_module_version": "1.5.0",
            "_model_name": "ProgressStyleModel",
            "_view_count": null,
            "_view_module": "@jupyter-widgets/base",
            "_view_module_version": "1.2.0",
            "_view_name": "StyleView",
            "bar_color": null,
            "description_width": ""
          }
        },
        "304f8b7b247141989c78ef574897dc8b": {
          "model_module": "@jupyter-widgets/base",
          "model_name": "LayoutModel",
          "model_module_version": "1.2.0",
          "state": {
            "_model_module": "@jupyter-widgets/base",
            "_model_module_version": "1.2.0",
            "_model_name": "LayoutModel",
            "_view_count": null,
            "_view_module": "@jupyter-widgets/base",
            "_view_module_version": "1.2.0",
            "_view_name": "LayoutView",
            "align_content": null,
            "align_items": null,
            "align_self": null,
            "border": null,
            "bottom": null,
            "display": null,
            "flex": null,
            "flex_flow": null,
            "grid_area": null,
            "grid_auto_columns": null,
            "grid_auto_flow": null,
            "grid_auto_rows": null,
            "grid_column": null,
            "grid_gap": null,
            "grid_row": null,
            "grid_template_areas": null,
            "grid_template_columns": null,
            "grid_template_rows": null,
            "height": null,
            "justify_content": null,
            "justify_items": null,
            "left": null,
            "margin": null,
            "max_height": null,
            "max_width": null,
            "min_height": null,
            "min_width": null,
            "object_fit": null,
            "object_position": null,
            "order": null,
            "overflow": null,
            "overflow_x": null,
            "overflow_y": null,
            "padding": null,
            "right": null,
            "top": null,
            "visibility": null,
            "width": null
          }
        },
        "ab9274bb43f54f88b107be32e8b5e23d": {
          "model_module": "@jupyter-widgets/controls",
          "model_name": "DescriptionStyleModel",
          "model_module_version": "1.5.0",
          "state": {
            "_model_module": "@jupyter-widgets/controls",
            "_model_module_version": "1.5.0",
            "_model_name": "DescriptionStyleModel",
            "_view_count": null,
            "_view_module": "@jupyter-widgets/base",
            "_view_module_version": "1.2.0",
            "_view_name": "StyleView",
            "description_width": ""
          }
        },
        "3353bcd807c449b7ae58eb6ca597724c": {
          "model_module": "@jupyter-widgets/controls",
          "model_name": "HBoxModel",
          "model_module_version": "1.5.0",
          "state": {
            "_dom_classes": [],
            "_model_module": "@jupyter-widgets/controls",
            "_model_module_version": "1.5.0",
            "_model_name": "HBoxModel",
            "_view_count": null,
            "_view_module": "@jupyter-widgets/controls",
            "_view_module_version": "1.5.0",
            "_view_name": "HBoxView",
            "box_style": "",
            "children": [
              "IPY_MODEL_a7e8dc4bd28748dda5caeeca5b82636d",
              "IPY_MODEL_0278f31c9c6c48569e950f4cca490706",
              "IPY_MODEL_39f4049ccf1b47c88d81bc324eb8e493"
            ],
            "layout": "IPY_MODEL_5259f0c17ad74f3c9abd6d45102540c1"
          }
        },
        "a7e8dc4bd28748dda5caeeca5b82636d": {
          "model_module": "@jupyter-widgets/controls",
          "model_name": "HTMLModel",
          "model_module_version": "1.5.0",
          "state": {
            "_dom_classes": [],
            "_model_module": "@jupyter-widgets/controls",
            "_model_module_version": "1.5.0",
            "_model_name": "HTMLModel",
            "_view_count": null,
            "_view_module": "@jupyter-widgets/controls",
            "_view_module_version": "1.5.0",
            "_view_name": "HTMLView",
            "description": "",
            "description_tooltip": null,
            "layout": "IPY_MODEL_8d3ace55be264c6c87571ad0bfc6d2e0",
            "placeholder": "​",
            "style": "IPY_MODEL_8406b944e483495987436f346cd81ea4",
            "value": ""
          }
        },
        "0278f31c9c6c48569e950f4cca490706": {
          "model_module": "@jupyter-widgets/controls",
          "model_name": "FloatProgressModel",
          "model_module_version": "1.5.0",
          "state": {
            "_dom_classes": [],
            "_model_module": "@jupyter-widgets/controls",
            "_model_module_version": "1.5.0",
            "_model_name": "FloatProgressModel",
            "_view_count": null,
            "_view_module": "@jupyter-widgets/controls",
            "_view_module_version": "1.5.0",
            "_view_name": "ProgressView",
            "bar_style": "success",
            "description": "",
            "description_tooltip": null,
            "layout": "IPY_MODEL_6070c4e197cb4fe0a77acc668e0bbe55",
            "max": 1,
            "min": 0,
            "orientation": "horizontal",
            "style": "IPY_MODEL_58ca80813fa74245957993d5c337cbc4",
            "value": 1
          }
        },
        "39f4049ccf1b47c88d81bc324eb8e493": {
          "model_module": "@jupyter-widgets/controls",
          "model_name": "HTMLModel",
          "model_module_version": "1.5.0",
          "state": {
            "_dom_classes": [],
            "_model_module": "@jupyter-widgets/controls",
            "_model_module_version": "1.5.0",
            "_model_name": "HTMLModel",
            "_view_count": null,
            "_view_module": "@jupyter-widgets/controls",
            "_view_module_version": "1.5.0",
            "_view_name": "HTMLView",
            "description": "",
            "description_tooltip": null,
            "layout": "IPY_MODEL_cc15cdb669fa4bee82882c9a9ac9ff48",
            "placeholder": "​",
            "style": "IPY_MODEL_ee994dd288c1467eb6b8b90b759e1982",
            "value": " 3750/? [00:18&lt;00:00, 249.87it/s]"
          }
        },
        "5259f0c17ad74f3c9abd6d45102540c1": {
          "model_module": "@jupyter-widgets/base",
          "model_name": "LayoutModel",
          "model_module_version": "1.2.0",
          "state": {
            "_model_module": "@jupyter-widgets/base",
            "_model_module_version": "1.2.0",
            "_model_name": "LayoutModel",
            "_view_count": null,
            "_view_module": "@jupyter-widgets/base",
            "_view_module_version": "1.2.0",
            "_view_name": "LayoutView",
            "align_content": null,
            "align_items": null,
            "align_self": null,
            "border": null,
            "bottom": null,
            "display": null,
            "flex": null,
            "flex_flow": null,
            "grid_area": null,
            "grid_auto_columns": null,
            "grid_auto_flow": null,
            "grid_auto_rows": null,
            "grid_column": null,
            "grid_gap": null,
            "grid_row": null,
            "grid_template_areas": null,
            "grid_template_columns": null,
            "grid_template_rows": null,
            "height": null,
            "justify_content": null,
            "justify_items": null,
            "left": null,
            "margin": null,
            "max_height": null,
            "max_width": null,
            "min_height": null,
            "min_width": null,
            "object_fit": null,
            "object_position": null,
            "order": null,
            "overflow": null,
            "overflow_x": null,
            "overflow_y": null,
            "padding": null,
            "right": null,
            "top": null,
            "visibility": null,
            "width": null
          }
        },
        "8d3ace55be264c6c87571ad0bfc6d2e0": {
          "model_module": "@jupyter-widgets/base",
          "model_name": "LayoutModel",
          "model_module_version": "1.2.0",
          "state": {
            "_model_module": "@jupyter-widgets/base",
            "_model_module_version": "1.2.0",
            "_model_name": "LayoutModel",
            "_view_count": null,
            "_view_module": "@jupyter-widgets/base",
            "_view_module_version": "1.2.0",
            "_view_name": "LayoutView",
            "align_content": null,
            "align_items": null,
            "align_self": null,
            "border": null,
            "bottom": null,
            "display": null,
            "flex": null,
            "flex_flow": null,
            "grid_area": null,
            "grid_auto_columns": null,
            "grid_auto_flow": null,
            "grid_auto_rows": null,
            "grid_column": null,
            "grid_gap": null,
            "grid_row": null,
            "grid_template_areas": null,
            "grid_template_columns": null,
            "grid_template_rows": null,
            "height": null,
            "justify_content": null,
            "justify_items": null,
            "left": null,
            "margin": null,
            "max_height": null,
            "max_width": null,
            "min_height": null,
            "min_width": null,
            "object_fit": null,
            "object_position": null,
            "order": null,
            "overflow": null,
            "overflow_x": null,
            "overflow_y": null,
            "padding": null,
            "right": null,
            "top": null,
            "visibility": null,
            "width": null
          }
        },
        "8406b944e483495987436f346cd81ea4": {
          "model_module": "@jupyter-widgets/controls",
          "model_name": "DescriptionStyleModel",
          "model_module_version": "1.5.0",
          "state": {
            "_model_module": "@jupyter-widgets/controls",
            "_model_module_version": "1.5.0",
            "_model_name": "DescriptionStyleModel",
            "_view_count": null,
            "_view_module": "@jupyter-widgets/base",
            "_view_module_version": "1.2.0",
            "_view_name": "StyleView",
            "description_width": ""
          }
        },
        "6070c4e197cb4fe0a77acc668e0bbe55": {
          "model_module": "@jupyter-widgets/base",
          "model_name": "LayoutModel",
          "model_module_version": "1.2.0",
          "state": {
            "_model_module": "@jupyter-widgets/base",
            "_model_module_version": "1.2.0",
            "_model_name": "LayoutModel",
            "_view_count": null,
            "_view_module": "@jupyter-widgets/base",
            "_view_module_version": "1.2.0",
            "_view_name": "LayoutView",
            "align_content": null,
            "align_items": null,
            "align_self": null,
            "border": null,
            "bottom": null,
            "display": null,
            "flex": null,
            "flex_flow": null,
            "grid_area": null,
            "grid_auto_columns": null,
            "grid_auto_flow": null,
            "grid_auto_rows": null,
            "grid_column": null,
            "grid_gap": null,
            "grid_row": null,
            "grid_template_areas": null,
            "grid_template_columns": null,
            "grid_template_rows": null,
            "height": null,
            "justify_content": null,
            "justify_items": null,
            "left": null,
            "margin": null,
            "max_height": null,
            "max_width": null,
            "min_height": null,
            "min_width": null,
            "object_fit": null,
            "object_position": null,
            "order": null,
            "overflow": null,
            "overflow_x": null,
            "overflow_y": null,
            "padding": null,
            "right": null,
            "top": null,
            "visibility": null,
            "width": "20px"
          }
        },
        "58ca80813fa74245957993d5c337cbc4": {
          "model_module": "@jupyter-widgets/controls",
          "model_name": "ProgressStyleModel",
          "model_module_version": "1.5.0",
          "state": {
            "_model_module": "@jupyter-widgets/controls",
            "_model_module_version": "1.5.0",
            "_model_name": "ProgressStyleModel",
            "_view_count": null,
            "_view_module": "@jupyter-widgets/base",
            "_view_module_version": "1.2.0",
            "_view_name": "StyleView",
            "bar_color": null,
            "description_width": ""
          }
        },
        "cc15cdb669fa4bee82882c9a9ac9ff48": {
          "model_module": "@jupyter-widgets/base",
          "model_name": "LayoutModel",
          "model_module_version": "1.2.0",
          "state": {
            "_model_module": "@jupyter-widgets/base",
            "_model_module_version": "1.2.0",
            "_model_name": "LayoutModel",
            "_view_count": null,
            "_view_module": "@jupyter-widgets/base",
            "_view_module_version": "1.2.0",
            "_view_name": "LayoutView",
            "align_content": null,
            "align_items": null,
            "align_self": null,
            "border": null,
            "bottom": null,
            "display": null,
            "flex": null,
            "flex_flow": null,
            "grid_area": null,
            "grid_auto_columns": null,
            "grid_auto_flow": null,
            "grid_auto_rows": null,
            "grid_column": null,
            "grid_gap": null,
            "grid_row": null,
            "grid_template_areas": null,
            "grid_template_columns": null,
            "grid_template_rows": null,
            "height": null,
            "justify_content": null,
            "justify_items": null,
            "left": null,
            "margin": null,
            "max_height": null,
            "max_width": null,
            "min_height": null,
            "min_width": null,
            "object_fit": null,
            "object_position": null,
            "order": null,
            "overflow": null,
            "overflow_x": null,
            "overflow_y": null,
            "padding": null,
            "right": null,
            "top": null,
            "visibility": null,
            "width": null
          }
        },
        "ee994dd288c1467eb6b8b90b759e1982": {
          "model_module": "@jupyter-widgets/controls",
          "model_name": "DescriptionStyleModel",
          "model_module_version": "1.5.0",
          "state": {
            "_model_module": "@jupyter-widgets/controls",
            "_model_module_version": "1.5.0",
            "_model_name": "DescriptionStyleModel",
            "_view_count": null,
            "_view_module": "@jupyter-widgets/base",
            "_view_module_version": "1.2.0",
            "_view_name": "StyleView",
            "description_width": ""
          }
        },
        "b706cf4bd6364ed193a0f43efe571d17": {
          "model_module": "@jupyter-widgets/controls",
          "model_name": "HBoxModel",
          "model_module_version": "1.5.0",
          "state": {
            "_dom_classes": [],
            "_model_module": "@jupyter-widgets/controls",
            "_model_module_version": "1.5.0",
            "_model_name": "HBoxModel",
            "_view_count": null,
            "_view_module": "@jupyter-widgets/controls",
            "_view_module_version": "1.5.0",
            "_view_name": "HBoxView",
            "box_style": "",
            "children": [
              "IPY_MODEL_1f5df45eec2c4485864700042705cde6",
              "IPY_MODEL_98fc268dad104fa8b7c71e61aca331a6",
              "IPY_MODEL_e568cf96f6024d23bd2b5e9911c58201"
            ],
            "layout": "IPY_MODEL_6def117522ad437082a20bd96d40c475"
          }
        },
        "1f5df45eec2c4485864700042705cde6": {
          "model_module": "@jupyter-widgets/controls",
          "model_name": "HTMLModel",
          "model_module_version": "1.5.0",
          "state": {
            "_dom_classes": [],
            "_model_module": "@jupyter-widgets/controls",
            "_model_module_version": "1.5.0",
            "_model_name": "HTMLModel",
            "_view_count": null,
            "_view_module": "@jupyter-widgets/controls",
            "_view_module_version": "1.5.0",
            "_view_name": "HTMLView",
            "description": "",
            "description_tooltip": null,
            "layout": "IPY_MODEL_9d05025c16b94bf0a658e89d2fc751f4",
            "placeholder": "​",
            "style": "IPY_MODEL_20406b61bf774be793343056932ef6b8",
            "value": ""
          }
        },
        "98fc268dad104fa8b7c71e61aca331a6": {
          "model_module": "@jupyter-widgets/controls",
          "model_name": "FloatProgressModel",
          "model_module_version": "1.5.0",
          "state": {
            "_dom_classes": [],
            "_model_module": "@jupyter-widgets/controls",
            "_model_module_version": "1.5.0",
            "_model_name": "FloatProgressModel",
            "_view_count": null,
            "_view_module": "@jupyter-widgets/controls",
            "_view_module_version": "1.5.0",
            "_view_name": "ProgressView",
            "bar_style": "success",
            "description": "",
            "description_tooltip": null,
            "layout": "IPY_MODEL_a1d86385b20e41229cc29445da5d7ee3",
            "max": 1,
            "min": 0,
            "orientation": "horizontal",
            "style": "IPY_MODEL_e9f35ee0a27545509b93ae064812d2ee",
            "value": 1
          }
        },
        "e568cf96f6024d23bd2b5e9911c58201": {
          "model_module": "@jupyter-widgets/controls",
          "model_name": "HTMLModel",
          "model_module_version": "1.5.0",
          "state": {
            "_dom_classes": [],
            "_model_module": "@jupyter-widgets/controls",
            "_model_module_version": "1.5.0",
            "_model_name": "HTMLModel",
            "_view_count": null,
            "_view_module": "@jupyter-widgets/controls",
            "_view_module_version": "1.5.0",
            "_view_name": "HTMLView",
            "description": "",
            "description_tooltip": null,
            "layout": "IPY_MODEL_956f84a56b824ec3ac5b940396da4261",
            "placeholder": "​",
            "style": "IPY_MODEL_75054d0dafb74b2aa04a407b08983899",
            "value": " 3750/? [00:17&lt;00:00, 235.68it/s]"
          }
        },
        "6def117522ad437082a20bd96d40c475": {
          "model_module": "@jupyter-widgets/base",
          "model_name": "LayoutModel",
          "model_module_version": "1.2.0",
          "state": {
            "_model_module": "@jupyter-widgets/base",
            "_model_module_version": "1.2.0",
            "_model_name": "LayoutModel",
            "_view_count": null,
            "_view_module": "@jupyter-widgets/base",
            "_view_module_version": "1.2.0",
            "_view_name": "LayoutView",
            "align_content": null,
            "align_items": null,
            "align_self": null,
            "border": null,
            "bottom": null,
            "display": null,
            "flex": null,
            "flex_flow": null,
            "grid_area": null,
            "grid_auto_columns": null,
            "grid_auto_flow": null,
            "grid_auto_rows": null,
            "grid_column": null,
            "grid_gap": null,
            "grid_row": null,
            "grid_template_areas": null,
            "grid_template_columns": null,
            "grid_template_rows": null,
            "height": null,
            "justify_content": null,
            "justify_items": null,
            "left": null,
            "margin": null,
            "max_height": null,
            "max_width": null,
            "min_height": null,
            "min_width": null,
            "object_fit": null,
            "object_position": null,
            "order": null,
            "overflow": null,
            "overflow_x": null,
            "overflow_y": null,
            "padding": null,
            "right": null,
            "top": null,
            "visibility": null,
            "width": null
          }
        },
        "9d05025c16b94bf0a658e89d2fc751f4": {
          "model_module": "@jupyter-widgets/base",
          "model_name": "LayoutModel",
          "model_module_version": "1.2.0",
          "state": {
            "_model_module": "@jupyter-widgets/base",
            "_model_module_version": "1.2.0",
            "_model_name": "LayoutModel",
            "_view_count": null,
            "_view_module": "@jupyter-widgets/base",
            "_view_module_version": "1.2.0",
            "_view_name": "LayoutView",
            "align_content": null,
            "align_items": null,
            "align_self": null,
            "border": null,
            "bottom": null,
            "display": null,
            "flex": null,
            "flex_flow": null,
            "grid_area": null,
            "grid_auto_columns": null,
            "grid_auto_flow": null,
            "grid_auto_rows": null,
            "grid_column": null,
            "grid_gap": null,
            "grid_row": null,
            "grid_template_areas": null,
            "grid_template_columns": null,
            "grid_template_rows": null,
            "height": null,
            "justify_content": null,
            "justify_items": null,
            "left": null,
            "margin": null,
            "max_height": null,
            "max_width": null,
            "min_height": null,
            "min_width": null,
            "object_fit": null,
            "object_position": null,
            "order": null,
            "overflow": null,
            "overflow_x": null,
            "overflow_y": null,
            "padding": null,
            "right": null,
            "top": null,
            "visibility": null,
            "width": null
          }
        },
        "20406b61bf774be793343056932ef6b8": {
          "model_module": "@jupyter-widgets/controls",
          "model_name": "DescriptionStyleModel",
          "model_module_version": "1.5.0",
          "state": {
            "_model_module": "@jupyter-widgets/controls",
            "_model_module_version": "1.5.0",
            "_model_name": "DescriptionStyleModel",
            "_view_count": null,
            "_view_module": "@jupyter-widgets/base",
            "_view_module_version": "1.2.0",
            "_view_name": "StyleView",
            "description_width": ""
          }
        },
        "a1d86385b20e41229cc29445da5d7ee3": {
          "model_module": "@jupyter-widgets/base",
          "model_name": "LayoutModel",
          "model_module_version": "1.2.0",
          "state": {
            "_model_module": "@jupyter-widgets/base",
            "_model_module_version": "1.2.0",
            "_model_name": "LayoutModel",
            "_view_count": null,
            "_view_module": "@jupyter-widgets/base",
            "_view_module_version": "1.2.0",
            "_view_name": "LayoutView",
            "align_content": null,
            "align_items": null,
            "align_self": null,
            "border": null,
            "bottom": null,
            "display": null,
            "flex": null,
            "flex_flow": null,
            "grid_area": null,
            "grid_auto_columns": null,
            "grid_auto_flow": null,
            "grid_auto_rows": null,
            "grid_column": null,
            "grid_gap": null,
            "grid_row": null,
            "grid_template_areas": null,
            "grid_template_columns": null,
            "grid_template_rows": null,
            "height": null,
            "justify_content": null,
            "justify_items": null,
            "left": null,
            "margin": null,
            "max_height": null,
            "max_width": null,
            "min_height": null,
            "min_width": null,
            "object_fit": null,
            "object_position": null,
            "order": null,
            "overflow": null,
            "overflow_x": null,
            "overflow_y": null,
            "padding": null,
            "right": null,
            "top": null,
            "visibility": null,
            "width": "20px"
          }
        },
        "e9f35ee0a27545509b93ae064812d2ee": {
          "model_module": "@jupyter-widgets/controls",
          "model_name": "ProgressStyleModel",
          "model_module_version": "1.5.0",
          "state": {
            "_model_module": "@jupyter-widgets/controls",
            "_model_module_version": "1.5.0",
            "_model_name": "ProgressStyleModel",
            "_view_count": null,
            "_view_module": "@jupyter-widgets/base",
            "_view_module_version": "1.2.0",
            "_view_name": "StyleView",
            "bar_color": null,
            "description_width": ""
          }
        },
        "956f84a56b824ec3ac5b940396da4261": {
          "model_module": "@jupyter-widgets/base",
          "model_name": "LayoutModel",
          "model_module_version": "1.2.0",
          "state": {
            "_model_module": "@jupyter-widgets/base",
            "_model_module_version": "1.2.0",
            "_model_name": "LayoutModel",
            "_view_count": null,
            "_view_module": "@jupyter-widgets/base",
            "_view_module_version": "1.2.0",
            "_view_name": "LayoutView",
            "align_content": null,
            "align_items": null,
            "align_self": null,
            "border": null,
            "bottom": null,
            "display": null,
            "flex": null,
            "flex_flow": null,
            "grid_area": null,
            "grid_auto_columns": null,
            "grid_auto_flow": null,
            "grid_auto_rows": null,
            "grid_column": null,
            "grid_gap": null,
            "grid_row": null,
            "grid_template_areas": null,
            "grid_template_columns": null,
            "grid_template_rows": null,
            "height": null,
            "justify_content": null,
            "justify_items": null,
            "left": null,
            "margin": null,
            "max_height": null,
            "max_width": null,
            "min_height": null,
            "min_width": null,
            "object_fit": null,
            "object_position": null,
            "order": null,
            "overflow": null,
            "overflow_x": null,
            "overflow_y": null,
            "padding": null,
            "right": null,
            "top": null,
            "visibility": null,
            "width": null
          }
        },
        "75054d0dafb74b2aa04a407b08983899": {
          "model_module": "@jupyter-widgets/controls",
          "model_name": "DescriptionStyleModel",
          "model_module_version": "1.5.0",
          "state": {
            "_model_module": "@jupyter-widgets/controls",
            "_model_module_version": "1.5.0",
            "_model_name": "DescriptionStyleModel",
            "_view_count": null,
            "_view_module": "@jupyter-widgets/base",
            "_view_module_version": "1.2.0",
            "_view_name": "StyleView",
            "description_width": ""
          }
        }
      }
    }
  },
  "nbformat": 4,
  "nbformat_minor": 0
}